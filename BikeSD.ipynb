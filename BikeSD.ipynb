{
  "nbformat": 4,
  "nbformat_minor": 0,
  "metadata": {
    "colab": {
      "name": "BikeSD.ipynb",
      "provenance": [],
      "toc_visible": true,
      "include_colab_link": true
    },
    "kernelspec": {
      "name": "python3",
      "display_name": "Python 3"
    }
  },
  "cells": [
    {
      "cell_type": "markdown",
      "metadata": {
        "id": "view-in-github",
        "colab_type": "text"
      },
      "source": [
        "<a href=\"https://colab.research.google.com/github/davione112/Collection_Preprocessing/blob/master/BikeSD.ipynb\" target=\"_parent\"><img src=\"https://colab.research.google.com/assets/colab-badge.svg\" alt=\"Open In Colab\"/></a>"
      ]
    },
    {
      "cell_type": "markdown",
      "metadata": {
        "id": "rVa7FjBGoz3O",
        "colab_type": "text"
      },
      "source": [
        "# **Libraries**\n",
        "\n",
        "\n"
      ]
    },
    {
      "cell_type": "code",
      "metadata": {
        "id": "BlN-vL3wodrk",
        "colab_type": "code",
        "colab": {}
      },
      "source": [
        "import pandas as pd\n",
        "import requests\n",
        "from datetime import datetime\n",
        "import matplotlib.pyplot as plt\n",
        "import seaborn as sb\n",
        "import numpy as np\n",
        "from sklearn import tree\n",
        "from matplotlib.gridspec import GridSpec\n",
        "from sklearn.ensemble import RandomForestRegressor\n",
        "import math"
      ],
      "execution_count": 70,
      "outputs": []
    },
    {
      "cell_type": "markdown",
      "metadata": {
        "id": "pmhgOjGAntIW",
        "colab_type": "text"
      },
      "source": [
        "# **Dataset**"
      ]
    },
    {
      "cell_type": "code",
      "metadata": {
        "id": "8CU6iLqgtkG6",
        "colab_type": "code",
        "colab": {}
      },
      "source": [
        "url1 = 'https://raw.githubusercontent.com/davione112/work/master/train.csv'\n",
        "url2 = 'https://raw.githubusercontent.com/davione112/work/master/test.csv'\n",
        "train = pd.read_csv(url1)\n",
        "test = pd.read_csv(url2)"
      ],
      "execution_count": 71,
      "outputs": []
    },
    {
      "cell_type": "markdown",
      "metadata": {
        "id": "ZmfUrwSCn3S8",
        "colab_type": "text"
      },
      "source": [
        "- Brief summaries:\n"
      ]
    },
    {
      "cell_type": "code",
      "metadata": {
        "id": "BSyTW345uOJW",
        "colab_type": "code",
        "colab": {
          "base_uri": "https://localhost:8080/",
          "height": 195
        },
        "outputId": "bf00ca72-392e-4da5-82fe-48a529a7b65a"
      },
      "source": [
        "train.head(5)"
      ],
      "execution_count": 72,
      "outputs": [
        {
          "output_type": "execute_result",
          "data": {
            "text/html": [
              "<div>\n",
              "<style scoped>\n",
              "    .dataframe tbody tr th:only-of-type {\n",
              "        vertical-align: middle;\n",
              "    }\n",
              "\n",
              "    .dataframe tbody tr th {\n",
              "        vertical-align: top;\n",
              "    }\n",
              "\n",
              "    .dataframe thead th {\n",
              "        text-align: right;\n",
              "    }\n",
              "</style>\n",
              "<table border=\"1\" class=\"dataframe\">\n",
              "  <thead>\n",
              "    <tr style=\"text-align: right;\">\n",
              "      <th></th>\n",
              "      <th>datetime</th>\n",
              "      <th>season</th>\n",
              "      <th>holiday</th>\n",
              "      <th>workingday</th>\n",
              "      <th>weather</th>\n",
              "      <th>temp</th>\n",
              "      <th>atemp</th>\n",
              "      <th>humidity</th>\n",
              "      <th>windspeed</th>\n",
              "      <th>casual</th>\n",
              "      <th>registered</th>\n",
              "      <th>count</th>\n",
              "    </tr>\n",
              "  </thead>\n",
              "  <tbody>\n",
              "    <tr>\n",
              "      <th>0</th>\n",
              "      <td>2011-01-01 00:00:00</td>\n",
              "      <td>1</td>\n",
              "      <td>0</td>\n",
              "      <td>0</td>\n",
              "      <td>1</td>\n",
              "      <td>9.84</td>\n",
              "      <td>14.395</td>\n",
              "      <td>81</td>\n",
              "      <td>0.0</td>\n",
              "      <td>3</td>\n",
              "      <td>13</td>\n",
              "      <td>16</td>\n",
              "    </tr>\n",
              "    <tr>\n",
              "      <th>1</th>\n",
              "      <td>2011-01-01 01:00:00</td>\n",
              "      <td>1</td>\n",
              "      <td>0</td>\n",
              "      <td>0</td>\n",
              "      <td>1</td>\n",
              "      <td>9.02</td>\n",
              "      <td>13.635</td>\n",
              "      <td>80</td>\n",
              "      <td>0.0</td>\n",
              "      <td>8</td>\n",
              "      <td>32</td>\n",
              "      <td>40</td>\n",
              "    </tr>\n",
              "    <tr>\n",
              "      <th>2</th>\n",
              "      <td>2011-01-01 02:00:00</td>\n",
              "      <td>1</td>\n",
              "      <td>0</td>\n",
              "      <td>0</td>\n",
              "      <td>1</td>\n",
              "      <td>9.02</td>\n",
              "      <td>13.635</td>\n",
              "      <td>80</td>\n",
              "      <td>0.0</td>\n",
              "      <td>5</td>\n",
              "      <td>27</td>\n",
              "      <td>32</td>\n",
              "    </tr>\n",
              "    <tr>\n",
              "      <th>3</th>\n",
              "      <td>2011-01-01 03:00:00</td>\n",
              "      <td>1</td>\n",
              "      <td>0</td>\n",
              "      <td>0</td>\n",
              "      <td>1</td>\n",
              "      <td>9.84</td>\n",
              "      <td>14.395</td>\n",
              "      <td>75</td>\n",
              "      <td>0.0</td>\n",
              "      <td>3</td>\n",
              "      <td>10</td>\n",
              "      <td>13</td>\n",
              "    </tr>\n",
              "    <tr>\n",
              "      <th>4</th>\n",
              "      <td>2011-01-01 04:00:00</td>\n",
              "      <td>1</td>\n",
              "      <td>0</td>\n",
              "      <td>0</td>\n",
              "      <td>1</td>\n",
              "      <td>9.84</td>\n",
              "      <td>14.395</td>\n",
              "      <td>75</td>\n",
              "      <td>0.0</td>\n",
              "      <td>0</td>\n",
              "      <td>1</td>\n",
              "      <td>1</td>\n",
              "    </tr>\n",
              "  </tbody>\n",
              "</table>\n",
              "</div>"
            ],
            "text/plain": [
              "              datetime  season  holiday  ...  casual  registered  count\n",
              "0  2011-01-01 00:00:00       1        0  ...       3          13     16\n",
              "1  2011-01-01 01:00:00       1        0  ...       8          32     40\n",
              "2  2011-01-01 02:00:00       1        0  ...       5          27     32\n",
              "3  2011-01-01 03:00:00       1        0  ...       3          10     13\n",
              "4  2011-01-01 04:00:00       1        0  ...       0           1      1\n",
              "\n",
              "[5 rows x 12 columns]"
            ]
          },
          "metadata": {
            "tags": []
          },
          "execution_count": 72
        }
      ]
    },
    {
      "cell_type": "code",
      "metadata": {
        "id": "WJE_rLH8v8AF",
        "colab_type": "code",
        "colab": {
          "base_uri": "https://localhost:8080/",
          "height": 195
        },
        "outputId": "e67a3c5f-8ba7-49d2-9a3f-93571a2a5e13"
      },
      "source": [
        "test.head(5)"
      ],
      "execution_count": 73,
      "outputs": [
        {
          "output_type": "execute_result",
          "data": {
            "text/html": [
              "<div>\n",
              "<style scoped>\n",
              "    .dataframe tbody tr th:only-of-type {\n",
              "        vertical-align: middle;\n",
              "    }\n",
              "\n",
              "    .dataframe tbody tr th {\n",
              "        vertical-align: top;\n",
              "    }\n",
              "\n",
              "    .dataframe thead th {\n",
              "        text-align: right;\n",
              "    }\n",
              "</style>\n",
              "<table border=\"1\" class=\"dataframe\">\n",
              "  <thead>\n",
              "    <tr style=\"text-align: right;\">\n",
              "      <th></th>\n",
              "      <th>datetime</th>\n",
              "      <th>season</th>\n",
              "      <th>holiday</th>\n",
              "      <th>workingday</th>\n",
              "      <th>weather</th>\n",
              "      <th>temp</th>\n",
              "      <th>atemp</th>\n",
              "      <th>humidity</th>\n",
              "      <th>windspeed</th>\n",
              "    </tr>\n",
              "  </thead>\n",
              "  <tbody>\n",
              "    <tr>\n",
              "      <th>0</th>\n",
              "      <td>2011-01-20 00:00:00</td>\n",
              "      <td>1</td>\n",
              "      <td>0</td>\n",
              "      <td>1</td>\n",
              "      <td>1</td>\n",
              "      <td>10.66</td>\n",
              "      <td>11.365</td>\n",
              "      <td>56</td>\n",
              "      <td>26.0027</td>\n",
              "    </tr>\n",
              "    <tr>\n",
              "      <th>1</th>\n",
              "      <td>2011-01-20 01:00:00</td>\n",
              "      <td>1</td>\n",
              "      <td>0</td>\n",
              "      <td>1</td>\n",
              "      <td>1</td>\n",
              "      <td>10.66</td>\n",
              "      <td>13.635</td>\n",
              "      <td>56</td>\n",
              "      <td>0.0000</td>\n",
              "    </tr>\n",
              "    <tr>\n",
              "      <th>2</th>\n",
              "      <td>2011-01-20 02:00:00</td>\n",
              "      <td>1</td>\n",
              "      <td>0</td>\n",
              "      <td>1</td>\n",
              "      <td>1</td>\n",
              "      <td>10.66</td>\n",
              "      <td>13.635</td>\n",
              "      <td>56</td>\n",
              "      <td>0.0000</td>\n",
              "    </tr>\n",
              "    <tr>\n",
              "      <th>3</th>\n",
              "      <td>2011-01-20 03:00:00</td>\n",
              "      <td>1</td>\n",
              "      <td>0</td>\n",
              "      <td>1</td>\n",
              "      <td>1</td>\n",
              "      <td>10.66</td>\n",
              "      <td>12.880</td>\n",
              "      <td>56</td>\n",
              "      <td>11.0014</td>\n",
              "    </tr>\n",
              "    <tr>\n",
              "      <th>4</th>\n",
              "      <td>2011-01-20 04:00:00</td>\n",
              "      <td>1</td>\n",
              "      <td>0</td>\n",
              "      <td>1</td>\n",
              "      <td>1</td>\n",
              "      <td>10.66</td>\n",
              "      <td>12.880</td>\n",
              "      <td>56</td>\n",
              "      <td>11.0014</td>\n",
              "    </tr>\n",
              "  </tbody>\n",
              "</table>\n",
              "</div>"
            ],
            "text/plain": [
              "              datetime  season  holiday  ...   atemp  humidity  windspeed\n",
              "0  2011-01-20 00:00:00       1        0  ...  11.365        56    26.0027\n",
              "1  2011-01-20 01:00:00       1        0  ...  13.635        56     0.0000\n",
              "2  2011-01-20 02:00:00       1        0  ...  13.635        56     0.0000\n",
              "3  2011-01-20 03:00:00       1        0  ...  12.880        56    11.0014\n",
              "4  2011-01-20 04:00:00       1        0  ...  12.880        56    11.0014\n",
              "\n",
              "[5 rows x 9 columns]"
            ]
          },
          "metadata": {
            "tags": []
          },
          "execution_count": 73
        }
      ]
    },
    {
      "cell_type": "code",
      "metadata": {
        "id": "d5Q9hapdoKaf",
        "colab_type": "code",
        "colab": {
          "base_uri": "https://localhost:8080/",
          "height": 50
        },
        "outputId": "3ddf49a8-47d2-49da-ff42-792f399155dd"
      },
      "source": [
        "print(train.shape)\n",
        "print(test.shape)"
      ],
      "execution_count": null,
      "outputs": [
        {
          "output_type": "stream",
          "text": [
            "(10886, 12)\n",
            "(6493, 9)\n"
          ],
          "name": "stdout"
        }
      ]
    },
    {
      "cell_type": "code",
      "metadata": {
        "id": "iwHazjUOxQTf",
        "colab_type": "code",
        "colab": {
          "base_uri": "https://localhost:8080/",
          "height": 403
        },
        "outputId": "794ac826-1d65-48d2-f263-ecbdcca4b47f"
      },
      "source": [
        "#@title Check for missing data\n",
        "print(train.isnull().sum())\n",
        "print(test.isnull().sum())"
      ],
      "execution_count": 74,
      "outputs": [
        {
          "output_type": "stream",
          "text": [
            "datetime      0\n",
            "season        0\n",
            "holiday       0\n",
            "workingday    0\n",
            "weather       0\n",
            "temp          0\n",
            "atemp         0\n",
            "humidity      0\n",
            "windspeed     0\n",
            "casual        0\n",
            "registered    0\n",
            "count         0\n",
            "dtype: int64\n",
            "datetime      0\n",
            "season        0\n",
            "holiday       0\n",
            "workingday    0\n",
            "weather       0\n",
            "temp          0\n",
            "atemp         0\n",
            "humidity      0\n",
            "windspeed     0\n",
            "dtype: int64\n"
          ],
          "name": "stdout"
        }
      ]
    },
    {
      "cell_type": "code",
      "metadata": {
        "id": "tZknoiUjwJyz",
        "colab_type": "code",
        "colab": {}
      },
      "source": [
        "#@title Combine train and test into a dataset.\n",
        "dataset = train.append(test)\n",
        "dataset.reset_index(inplace=True)\n",
        "dataset.drop('index',inplace=True,axis=1)\n",
        "dataset = dataset.fillna(0)\n"
      ],
      "execution_count": 75,
      "outputs": []
    },
    {
      "cell_type": "code",
      "metadata": {
        "id": "UODCdDOJwpry",
        "colab_type": "code",
        "colab": {
          "base_uri": "https://localhost:8080/",
          "height": 195
        },
        "outputId": "62935344-a070-4ad0-fa59-ee0c38b6dd59"
      },
      "source": [
        "dataset.tail(5)"
      ],
      "execution_count": 76,
      "outputs": [
        {
          "output_type": "execute_result",
          "data": {
            "text/html": [
              "<div>\n",
              "<style scoped>\n",
              "    .dataframe tbody tr th:only-of-type {\n",
              "        vertical-align: middle;\n",
              "    }\n",
              "\n",
              "    .dataframe tbody tr th {\n",
              "        vertical-align: top;\n",
              "    }\n",
              "\n",
              "    .dataframe thead th {\n",
              "        text-align: right;\n",
              "    }\n",
              "</style>\n",
              "<table border=\"1\" class=\"dataframe\">\n",
              "  <thead>\n",
              "    <tr style=\"text-align: right;\">\n",
              "      <th></th>\n",
              "      <th>datetime</th>\n",
              "      <th>season</th>\n",
              "      <th>holiday</th>\n",
              "      <th>workingday</th>\n",
              "      <th>weather</th>\n",
              "      <th>temp</th>\n",
              "      <th>atemp</th>\n",
              "      <th>humidity</th>\n",
              "      <th>windspeed</th>\n",
              "      <th>casual</th>\n",
              "      <th>registered</th>\n",
              "      <th>count</th>\n",
              "    </tr>\n",
              "  </thead>\n",
              "  <tbody>\n",
              "    <tr>\n",
              "      <th>17374</th>\n",
              "      <td>2012-12-31 19:00:00</td>\n",
              "      <td>1</td>\n",
              "      <td>0</td>\n",
              "      <td>1</td>\n",
              "      <td>2</td>\n",
              "      <td>10.66</td>\n",
              "      <td>12.880</td>\n",
              "      <td>60</td>\n",
              "      <td>11.0014</td>\n",
              "      <td>0.0</td>\n",
              "      <td>0.0</td>\n",
              "      <td>0.0</td>\n",
              "    </tr>\n",
              "    <tr>\n",
              "      <th>17375</th>\n",
              "      <td>2012-12-31 20:00:00</td>\n",
              "      <td>1</td>\n",
              "      <td>0</td>\n",
              "      <td>1</td>\n",
              "      <td>2</td>\n",
              "      <td>10.66</td>\n",
              "      <td>12.880</td>\n",
              "      <td>60</td>\n",
              "      <td>11.0014</td>\n",
              "      <td>0.0</td>\n",
              "      <td>0.0</td>\n",
              "      <td>0.0</td>\n",
              "    </tr>\n",
              "    <tr>\n",
              "      <th>17376</th>\n",
              "      <td>2012-12-31 21:00:00</td>\n",
              "      <td>1</td>\n",
              "      <td>0</td>\n",
              "      <td>1</td>\n",
              "      <td>1</td>\n",
              "      <td>10.66</td>\n",
              "      <td>12.880</td>\n",
              "      <td>60</td>\n",
              "      <td>11.0014</td>\n",
              "      <td>0.0</td>\n",
              "      <td>0.0</td>\n",
              "      <td>0.0</td>\n",
              "    </tr>\n",
              "    <tr>\n",
              "      <th>17377</th>\n",
              "      <td>2012-12-31 22:00:00</td>\n",
              "      <td>1</td>\n",
              "      <td>0</td>\n",
              "      <td>1</td>\n",
              "      <td>1</td>\n",
              "      <td>10.66</td>\n",
              "      <td>13.635</td>\n",
              "      <td>56</td>\n",
              "      <td>8.9981</td>\n",
              "      <td>0.0</td>\n",
              "      <td>0.0</td>\n",
              "      <td>0.0</td>\n",
              "    </tr>\n",
              "    <tr>\n",
              "      <th>17378</th>\n",
              "      <td>2012-12-31 23:00:00</td>\n",
              "      <td>1</td>\n",
              "      <td>0</td>\n",
              "      <td>1</td>\n",
              "      <td>1</td>\n",
              "      <td>10.66</td>\n",
              "      <td>13.635</td>\n",
              "      <td>65</td>\n",
              "      <td>8.9981</td>\n",
              "      <td>0.0</td>\n",
              "      <td>0.0</td>\n",
              "      <td>0.0</td>\n",
              "    </tr>\n",
              "  </tbody>\n",
              "</table>\n",
              "</div>"
            ],
            "text/plain": [
              "                  datetime  season  holiday  ...  casual  registered  count\n",
              "17374  2012-12-31 19:00:00       1        0  ...     0.0         0.0    0.0\n",
              "17375  2012-12-31 20:00:00       1        0  ...     0.0         0.0    0.0\n",
              "17376  2012-12-31 21:00:00       1        0  ...     0.0         0.0    0.0\n",
              "17377  2012-12-31 22:00:00       1        0  ...     0.0         0.0    0.0\n",
              "17378  2012-12-31 23:00:00       1        0  ...     0.0         0.0    0.0\n",
              "\n",
              "[5 rows x 12 columns]"
            ]
          },
          "metadata": {
            "tags": []
          },
          "execution_count": 76
        }
      ]
    },
    {
      "cell_type": "markdown",
      "metadata": {
        "id": "ZFswafcsxk0l",
        "colab_type": "text"
      },
      "source": [
        "# **Understand variables and preprocessing** \n"
      ]
    },
    {
      "cell_type": "code",
      "metadata": {
        "id": "bKwfYrC6xrEQ",
        "colab_type": "code",
        "colab": {
          "base_uri": "https://localhost:8080/",
          "height": 235
        },
        "outputId": "55e2885c-7c0d-4ac2-d923-52ec284a4e5a"
      },
      "source": [
        "dataset.dtypes"
      ],
      "execution_count": 77,
      "outputs": [
        {
          "output_type": "execute_result",
          "data": {
            "text/plain": [
              "datetime       object\n",
              "season          int64\n",
              "holiday         int64\n",
              "workingday      int64\n",
              "weather         int64\n",
              "temp          float64\n",
              "atemp         float64\n",
              "humidity        int64\n",
              "windspeed     float64\n",
              "casual        float64\n",
              "registered    float64\n",
              "count         float64\n",
              "dtype: object"
            ]
          },
          "metadata": {
            "tags": []
          },
          "execution_count": 77
        }
      ]
    },
    {
      "cell_type": "markdown",
      "metadata": {
        "id": "wIzxXILnqdvG",
        "colab_type": "text"
      },
      "source": [
        "## Distributions of continuous variables"
      ]
    },
    {
      "cell_type": "code",
      "metadata": {
        "id": "G-zke1yEx3UW",
        "colab_type": "code",
        "colab": {
          "base_uri": "https://localhost:8080/",
          "height": 583
        },
        "outputId": "7db1a00b-5ab9-4263-fddc-c061943cce76"
      },
      "source": [
        "\n",
        "fig, ax = plt.subplots(nrows=2,ncols=2)\n",
        "fig.set_size_inches(20,10)\n",
        "sb.distplot(dataset[\"humidity\"],kde=False,ax=ax[0,0])\n",
        "sb.distplot(dataset[\"temp\"],kde=False,ax=ax[0,1])\n",
        "sb.distplot(dataset[\"atemp\"],kde=False,ax=ax[1,0])\n",
        "sb.distplot(dataset[\"windspeed\"],kde=False,ax=ax[1,1])\n",
        "\n",
        "ax[0,0].set_title(\"Humidity\")\n",
        "ax[0,1].set_title(\"Temperature\")\n",
        "ax[1,0].set_title(\"Atemperature\")\n",
        "ax[1,1].set_title(\"Windspeed\")\n",
        "ax[0,0].set_ylabel('Count')\n",
        "ax[0,1].set_ylabel('Count')\n",
        "ax[1,0].set_ylabel('Count')\n",
        "ax[1,1].set_ylabel('Count')"
      ],
      "execution_count": 82,
      "outputs": [
        {
          "output_type": "execute_result",
          "data": {
            "text/plain": [
              "Text(0, 0.5, 'Count')"
            ]
          },
          "metadata": {
            "tags": []
          },
          "execution_count": 82
        },
        {
          "output_type": "display_data",
          "data": {
            "image/png": "[encoded data removed]",
            "text/plain": [
              "<Figure size 1440x720 with 4 Axes>"
            ]
          },
          "metadata": {
            "tags": [],
            "needs_background": "light"
          }
        }
      ]
    },
    {
      "cell_type": "markdown",
      "metadata": {
        "id": "-SCRI7AxYKxx",
        "colab_type": "text"
      },
      "source": [
        "- There are so many values = 0 in windspeed.\n",
        "- Replace those values by median of column \"windspeed\"."
      ]
    },
    {
      "cell_type": "code",
      "metadata": {
        "id": "DZGzMZt4YezZ",
        "colab_type": "code",
        "colab": {
          "base_uri": "https://localhost:8080/",
          "height": 532
        },
        "outputId": "282d9967-d828-495a-a5fe-4ff0ad08a12d"
      },
      "source": [
        "x = dataset['windspeed'].mean()\n",
        "print(x)\n",
        "dataset['windspeed'] = dataset['windspeed'].replace(0,x)\n",
        "plt.figure(figsize=(15,8))\n",
        "sb.distplot(dataset[\"windspeed\"],kde=False)\n",
        "plt.ylabel('Count')"
      ],
      "execution_count": 83,
      "outputs": [
        {
          "output_type": "stream",
          "text": [
            "12.736539622533591\n"
          ],
          "name": "stdout"
        },
        {
          "output_type": "execute_result",
          "data": {
            "text/plain": [
              "Text(0, 0.5, 'Count')"
            ]
          },
          "metadata": {
            "tags": []
          },
          "execution_count": 83
        },
        {
          "output_type": "display_data",
          "data": {
            "image/png": "[encoded data removed]",
            "text/plain": [
              "<Figure size 1080x576 with 1 Axes>"
            ]
          },
          "metadata": {
            "tags": [],
            "needs_background": "light"
          }
        }
      ]
    },
    {
      "cell_type": "code",
      "metadata": {
        "id": "GwQdSwsSz5zf",
        "colab_type": "code",
        "colab": {
          "base_uri": "https://localhost:8080/",
          "height": 884
        },
        "outputId": "7c312812-755d-4d45-d42b-a7d1020754b8"
      },
      "source": [
        "x = train[['humidity','temp','atemp','windspeed','registered','casual','count']].corr()\n",
        "plt.figure(figsize=(15,15))\n",
        "sb.heatmap(x, cmap='YlGnBu', annot=True, annot_kws={\"size\":10}, linewidths=0.5)"
      ],
      "execution_count": 15,
      "outputs": [
        {
          "output_type": "execute_result",
          "data": {
            "text/plain": [
              "<matplotlib.axes._subplots.AxesSubplot at 0x7f9d4eaf2630>"
            ]
          },
          "metadata": {
            "tags": []
          },
          "execution_count": 15
        },
        {
          "output_type": "display_data",
          "data": {
            "image/png": "[encoded data removed]",
            "text/plain": [
              "<Figure size 1080x1080 with 2 Axes>"
            ]
          },
          "metadata": {
            "tags": [],
            "needs_background": "light"
          }
        }
      ]
    },
    {
      "cell_type": "markdown",
      "metadata": {
        "id": "w-aH-PyYqnbc",
        "colab_type": "text"
      },
      "source": [
        "## Distributions of categorical variables\n"
      ]
    },
    {
      "cell_type": "code",
      "metadata": {
        "id": "GRLCGbNw-KmS",
        "colab_type": "code",
        "colab": {
          "base_uri": "https://localhost:8080/",
          "height": 580
        },
        "outputId": "293dafb7-a61e-437f-d895-173bf08a711b"
      },
      "source": [
        "fig, ax = plt.subplots(nrows=2,ncols=2)\n",
        "fig.set_size_inches(20,10)\n",
        "sb.distplot(dataset[\"season\"],kde=False,ax=ax[0,0])\n",
        "sb.distplot(dataset[\"weather\"],kde=False,ax=ax[0,1])\n",
        "sb.distplot(dataset[\"holiday\"],kde=False,ax=ax[1,0])\n",
        "sb.distplot(dataset[\"workingday\"],kde=False,ax=ax[1,1])\n",
        "\n",
        "ax[0,0].set_title(\"Season\")\n",
        "ax[0,1].set_title(\"Weather\")\n",
        "ax[1,0].set_title(\"Holiday\")\n",
        "ax[1,1].set_title(\"Workingday\")\n",
        "ax[0,0].set_ylabel('Count')\n",
        "ax[0,1].set_ylabel('Count')\n",
        "ax[1,0].set_ylabel('Count')\n",
        "ax[1,1].set_ylabel('Count')"
      ],
      "execution_count": 84,
      "outputs": [
        {
          "output_type": "execute_result",
          "data": {
            "text/plain": [
              "Text(0, 0.5, 'Count')"
            ]
          },
          "metadata": {
            "tags": []
          },
          "execution_count": 84
        },
        {
          "output_type": "display_data",
          "data": {
            "image/png": "[encoded data removed]",
            "text/plain": [
              "<Figure size 1440x720 with 4 Axes>"
            ]
          },
          "metadata": {
            "tags": [],
            "needs_background": "light"
          }
        }
      ]
    },
    {
      "cell_type": "markdown",
      "metadata": {
        "id": "PcNYgkVTteXN",
        "colab_type": "text"
      },
      "source": [
        "## Distribution of Count per each hours"
      ]
    },
    {
      "cell_type": "code",
      "metadata": {
        "id": "D9FW2cJN_0h5",
        "colab_type": "code",
        "colab": {}
      },
      "source": [
        "# convert 'datetime' column to datetime datatype\n",
        "dataset['datetime'] = pd.to_datetime(dataset['datetime'],\n",
        "                                     format='%Y-%m-%d %H:%M:%S')"
      ],
      "execution_count": 18,
      "outputs": []
    },
    {
      "cell_type": "code",
      "metadata": {
        "id": "XeUJ-tXmGD_W",
        "colab_type": "code",
        "colab": {}
      },
      "source": [
        "# add 'hour' and 'date' columns to dataset\n",
        "hours = []\n",
        "for i in range(len(dataset['datetime'])):\n",
        "  hours.append(dataset['datetime'][i].hour)\n",
        "dataset[\"hour\"] = hours\n",
        "dates = []\n",
        "for i in range(len(dataset['datetime'])):\n",
        "  dates.append(dataset['datetime'][i].day)\n",
        "dataset[\"date\"] = dates"
      ],
      "execution_count": 19,
      "outputs": []
    },
    {
      "cell_type": "code",
      "metadata": {
        "id": "zDgPHzTnHQNI",
        "colab_type": "code",
        "colab": {}
      },
      "source": [
        "# divide dataset into train and test\n",
        "dataset[['season','holiday','weather','workingday']] = dataset[['season','holiday','weather','workingday']].astype('category')\n",
        "dataset.head(5)\n",
        "train = dataset[pd.to_numeric(dataset['date']) < 20]\n",
        "test = dataset[pd.to_numeric(dataset['date']) >=20]"
      ],
      "execution_count": 20,
      "outputs": []
    },
    {
      "cell_type": "code",
      "metadata": {
        "id": "0z9806kVAT6K",
        "colab_type": "code",
        "colab": {
          "base_uri": "https://localhost:8080/",
          "height": 514
        },
        "outputId": "0b284a32-eb7d-4c91-8c2b-d7d66bb0f715"
      },
      "source": [
        "# boxplot bike rentals per hour in train set.\n",
        "plt.figure(figsize=(15,8))\n",
        "sb.boxplot(x='hour',y='count',data=train)"
      ],
      "execution_count": 21,
      "outputs": [
        {
          "output_type": "execute_result",
          "data": {
            "text/plain": [
              "<matplotlib.axes._subplots.AxesSubplot at 0x7f9d4cb98be0>"
            ]
          },
          "metadata": {
            "tags": []
          },
          "execution_count": 21
        },
        {
          "output_type": "display_data",
          "data": {
            "image/png": "[encoded data removed]",
            "text/plain": [
              "<Figure size 1080x576 with 1 Axes>"
            ]
          },
          "metadata": {
            "tags": [],
            "needs_background": "light"
          }
        }
      ]
    },
    {
      "cell_type": "code",
      "metadata": {
        "id": "e-k_g6UXxcuV",
        "colab_type": "code",
        "colab": {
          "base_uri": "https://localhost:8080/",
          "height": 547
        },
        "outputId": "7d1afedb-b0ab-4931-a366-9fe3b04c3731"
      },
      "source": [
        "# Natural logarit with count and split into train and test.\n",
        "dataset['log_count'] = np.log(dataset['count'])\n",
        "train = dataset[pd.to_numeric(dataset['date']) < 20]\n",
        "test = dataset[pd.to_numeric(dataset['date']) >=20]\n",
        "\n",
        "# Boxplot for 'log_count'\n",
        "plt.figure(figsize=(15,8))\n",
        "sb.boxplot(x='hour',y='log_count',data=train)"
      ],
      "execution_count": 22,
      "outputs": [
        {
          "output_type": "stream",
          "text": [
            "/usr/local/lib/python3.6/dist-packages/pandas/core/series.py:679: RuntimeWarning: divide by zero encountered in log\n",
            "  result = getattr(ufunc, method)(*inputs, **kwargs)\n"
          ],
          "name": "stderr"
        },
        {
          "output_type": "execute_result",
          "data": {
            "text/plain": [
              "<matplotlib.axes._subplots.AxesSubplot at 0x7f9d4c8d3358>"
            ]
          },
          "metadata": {
            "tags": []
          },
          "execution_count": 22
        },
        {
          "output_type": "display_data",
          "data": {
            "image/png": "[encoded data removed]",
            "text/plain": [
              "<Figure size 1080x576 with 1 Axes>"
            ]
          },
          "metadata": {
            "tags": [],
            "needs_background": "light"
          }
        }
      ]
    },
    {
      "cell_type": "markdown",
      "metadata": {
        "id": "hWkvVTL8qsvJ",
        "colab_type": "text"
      },
      "source": [
        "## Hour trending"
      ]
    },
    {
      "cell_type": "code",
      "metadata": {
        "id": "iyghHBcTJ5DX",
        "colab_type": "code",
        "colab": {
          "base_uri": "https://localhost:8080/",
          "height": 586
        },
        "outputId": "f70fcb60-4a36-4258-edf6-60f3e59c53ec"
      },
      "source": [
        "fig, (axis1,axis2) = plt.subplots(1,2)\n",
        "fig.set_size_inches(20,10)\n",
        "sb.boxplot(x='hour',y='casual',data=train,ax=axis1)\n",
        "sb.boxplot(x='hour',y='registered',data=train,ax=axis2)\n",
        "\n",
        "axis1.set_title('Casual per hour')\n",
        "axis2.set_title('Registered per hour')"
      ],
      "execution_count": 26,
      "outputs": [
        {
          "output_type": "execute_result",
          "data": {
            "text/plain": [
              "Text(0.5, 1.0, 'Registered per hour')"
            ]
          },
          "metadata": {
            "tags": []
          },
          "execution_count": 26
        },
        {
          "output_type": "display_data",
          "data": {
            "image/png": "[encoded data removed]",
            "text/plain": [
              "<Figure size 1440x720 with 2 Axes>"
            ]
          },
          "metadata": {
            "tags": [],
            "needs_background": "light"
          }
        }
      ]
    },
    {
      "cell_type": "markdown",
      "metadata": {
        "id": "xnBmCaavc10Z",
        "colab_type": "text"
      },
      "source": [
        "- From those 3 plots, we get some prediction:\n",
        "\n",
        "\n",
        "1.   High count: 7-9 hour , 16-19 hour.\n",
        "2.   Average count: 10-15 hour, 20-22 hour.\n",
        "3.   Low count: 0-6 hour, 23 hour.\n",
        "\n",
        "=> We can segregate into categories, with code lines below:\n"
      ]
    },
    {
      "cell_type": "code",
      "metadata": {
        "id": "jqWpLBGoenrH",
        "colab_type": "code",
        "colab": {}
      },
      "source": [
        "dataset['hour'] = dataset['hour'].astype('int64')\n",
        "#dataset['hour_ctg'] = 0\n",
        "dataset.loc[(dataset['hour']>=0) & (dataset['hour']<=6),'hour_ctg'] = 1\n",
        "dataset.loc[(dataset['hour']>=23),'hour_ctg'] = 1\n",
        "dataset.loc[(dataset['hour']>=7) & (dataset['hour']<=9),'hour_ctg'] = 3\n",
        "dataset.loc[(dataset['hour']>=16) & (dataset['hour']<=19),'hour_ctg'] = 3\n",
        "dataset.loc[(dataset['hour']>=10) & (dataset['hour']<=15),'hour_ctg'] = 2\n",
        "dataset.loc[(dataset['hour']>=20) & (dataset['hour']<=22),'hour_ctg'] = 2"
      ],
      "execution_count": 27,
      "outputs": []
    },
    {
      "cell_type": "code",
      "metadata": {
        "id": "sxm3Cw8wtTva",
        "colab_type": "code",
        "colab": {}
      },
      "source": [
        "# divide dataset into train and test\n",
        "train = dataset[pd.to_numeric(dataset['date']) < 20]\n",
        "test = dataset[pd.to_numeric(dataset['date']) >=20]"
      ],
      "execution_count": 28,
      "outputs": []
    },
    {
      "cell_type": "code",
      "metadata": {
        "id": "jpwx8sOxs33i",
        "colab_type": "code",
        "colab": {
          "base_uri": "https://localhost:8080/",
          "height": 357
        },
        "outputId": "b10bd0d5-b9e8-4fe2-8e99-ca839398a85d"
      },
      "source": [
        "plt.figure(figsize=(15,8))\n",
        "sb.boxplot(x='hour_ctg',y='count',data=train)"
      ],
      "execution_count": 85,
      "outputs": [
        {
          "output_type": "error",
          "ename": "ValueError",
          "evalue": "ignored",
          "traceback": [
            "\u001b[0;31m---------------------------------------------------------------------------\u001b[0m",
            "\u001b[0;31mValueError\u001b[0m                                Traceback (most recent call last)",
            "\u001b[0;32m<ipython-input-85-cf2d4bc41b8d>\u001b[0m in \u001b[0;36m<module>\u001b[0;34m()\u001b[0m\n\u001b[1;32m      1\u001b[0m \u001b[0mplt\u001b[0m\u001b[0;34m.\u001b[0m\u001b[0mfigure\u001b[0m\u001b[0;34m(\u001b[0m\u001b[0mfigsize\u001b[0m\u001b[0;34m=\u001b[0m\u001b[0;34m(\u001b[0m\u001b[0;36m15\u001b[0m\u001b[0;34m,\u001b[0m\u001b[0;36m8\u001b[0m\u001b[0;34m)\u001b[0m\u001b[0;34m)\u001b[0m\u001b[0;34m\u001b[0m\u001b[0;34m\u001b[0m\u001b[0m\n\u001b[0;32m----> 2\u001b[0;31m \u001b[0msb\u001b[0m\u001b[0;34m.\u001b[0m\u001b[0mboxplot\u001b[0m\u001b[0;34m(\u001b[0m\u001b[0mx\u001b[0m\u001b[0;34m=\u001b[0m\u001b[0;34m'hour_ctg'\u001b[0m\u001b[0;34m,\u001b[0m\u001b[0my\u001b[0m\u001b[0;34m=\u001b[0m\u001b[0;34m'count'\u001b[0m\u001b[0;34m,\u001b[0m\u001b[0mdata\u001b[0m\u001b[0;34m=\u001b[0m\u001b[0mtrain\u001b[0m\u001b[0;34m)\u001b[0m\u001b[0;34m\u001b[0m\u001b[0;34m\u001b[0m\u001b[0m\n\u001b[0m",
            "\u001b[0;32m/usr/local/lib/python3.6/dist-packages/seaborn/categorical.py\u001b[0m in \u001b[0;36mboxplot\u001b[0;34m(x, y, hue, data, order, hue_order, orient, color, palette, saturation, width, dodge, fliersize, linewidth, whis, ax, **kwargs)\u001b[0m\n\u001b[1;32m   2233\u001b[0m     plotter = _BoxPlotter(x, y, hue, data, order, hue_order,\n\u001b[1;32m   2234\u001b[0m                           \u001b[0morient\u001b[0m\u001b[0;34m,\u001b[0m \u001b[0mcolor\u001b[0m\u001b[0;34m,\u001b[0m \u001b[0mpalette\u001b[0m\u001b[0;34m,\u001b[0m \u001b[0msaturation\u001b[0m\u001b[0;34m,\u001b[0m\u001b[0;34m\u001b[0m\u001b[0;34m\u001b[0m\u001b[0m\n\u001b[0;32m-> 2235\u001b[0;31m                           width, dodge, fliersize, linewidth)\n\u001b[0m\u001b[1;32m   2236\u001b[0m \u001b[0;34m\u001b[0m\u001b[0m\n\u001b[1;32m   2237\u001b[0m     \u001b[0;32mif\u001b[0m \u001b[0max\u001b[0m \u001b[0;32mis\u001b[0m \u001b[0;32mNone\u001b[0m\u001b[0;34m:\u001b[0m\u001b[0;34m\u001b[0m\u001b[0;34m\u001b[0m\u001b[0m\n",
            "\u001b[0;32m/usr/local/lib/python3.6/dist-packages/seaborn/categorical.py\u001b[0m in \u001b[0;36m__init__\u001b[0;34m(self, x, y, hue, data, order, hue_order, orient, color, palette, saturation, width, dodge, fliersize, linewidth)\u001b[0m\n\u001b[1;32m    434\u001b[0m                  width, dodge, fliersize, linewidth):\n\u001b[1;32m    435\u001b[0m \u001b[0;34m\u001b[0m\u001b[0m\n\u001b[0;32m--> 436\u001b[0;31m         \u001b[0mself\u001b[0m\u001b[0;34m.\u001b[0m\u001b[0mestablish_variables\u001b[0m\u001b[0;34m(\u001b[0m\u001b[0mx\u001b[0m\u001b[0;34m,\u001b[0m \u001b[0my\u001b[0m\u001b[0;34m,\u001b[0m \u001b[0mhue\u001b[0m\u001b[0;34m,\u001b[0m \u001b[0mdata\u001b[0m\u001b[0;34m,\u001b[0m \u001b[0morient\u001b[0m\u001b[0;34m,\u001b[0m \u001b[0morder\u001b[0m\u001b[0;34m,\u001b[0m \u001b[0mhue_order\u001b[0m\u001b[0;34m)\u001b[0m\u001b[0;34m\u001b[0m\u001b[0;34m\u001b[0m\u001b[0m\n\u001b[0m\u001b[1;32m    437\u001b[0m         \u001b[0mself\u001b[0m\u001b[0;34m.\u001b[0m\u001b[0mestablish_colors\u001b[0m\u001b[0;34m(\u001b[0m\u001b[0mcolor\u001b[0m\u001b[0;34m,\u001b[0m \u001b[0mpalette\u001b[0m\u001b[0;34m,\u001b[0m \u001b[0msaturation\u001b[0m\u001b[0;34m)\u001b[0m\u001b[0;34m\u001b[0m\u001b[0;34m\u001b[0m\u001b[0m\n\u001b[1;32m    438\u001b[0m \u001b[0;34m\u001b[0m\u001b[0m\n",
            "\u001b[0;32m/usr/local/lib/python3.6/dist-packages/seaborn/categorical.py\u001b[0m in \u001b[0;36mestablish_variables\u001b[0;34m(self, x, y, hue, data, orient, order, hue_order, units)\u001b[0m\n\u001b[1;32m    150\u001b[0m                 \u001b[0;32mif\u001b[0m \u001b[0misinstance\u001b[0m\u001b[0;34m(\u001b[0m\u001b[0mvar\u001b[0m\u001b[0;34m,\u001b[0m \u001b[0mstr\u001b[0m\u001b[0;34m)\u001b[0m\u001b[0;34m:\u001b[0m\u001b[0;34m\u001b[0m\u001b[0;34m\u001b[0m\u001b[0m\n\u001b[1;32m    151\u001b[0m                     \u001b[0merr\u001b[0m \u001b[0;34m=\u001b[0m \u001b[0;34m\"Could not interpret input '{}'\"\u001b[0m\u001b[0;34m.\u001b[0m\u001b[0mformat\u001b[0m\u001b[0;34m(\u001b[0m\u001b[0mvar\u001b[0m\u001b[0;34m)\u001b[0m\u001b[0;34m\u001b[0m\u001b[0;34m\u001b[0m\u001b[0m\n\u001b[0;32m--> 152\u001b[0;31m                     \u001b[0;32mraise\u001b[0m \u001b[0mValueError\u001b[0m\u001b[0;34m(\u001b[0m\u001b[0merr\u001b[0m\u001b[0;34m)\u001b[0m\u001b[0;34m\u001b[0m\u001b[0;34m\u001b[0m\u001b[0m\n\u001b[0m\u001b[1;32m    153\u001b[0m \u001b[0;34m\u001b[0m\u001b[0m\n\u001b[1;32m    154\u001b[0m             \u001b[0;31m# Figure out the plotting orientation\u001b[0m\u001b[0;34m\u001b[0m\u001b[0;34m\u001b[0m\u001b[0;34m\u001b[0m\u001b[0m\n",
            "\u001b[0;31mValueError\u001b[0m: Could not interpret input 'hour_ctg'"
          ]
        },
        {
          "output_type": "display_data",
          "data": {
            "text/plain": [
              "<Figure size 1080x576 with 0 Axes>"
            ]
          },
          "metadata": {
            "tags": []
          }
        }
      ]
    },
    {
      "cell_type": "markdown",
      "metadata": {
        "id": "gc5QHwrcqzlD",
        "colab_type": "text"
      },
      "source": [
        "## Daily trend"
      ]
    },
    {
      "cell_type": "code",
      "metadata": {
        "id": "Rjd7doUlsSTz",
        "colab_type": "code",
        "colab": {}
      },
      "source": [
        "# extracting days of week from datetime\n",
        "days = []\n",
        "for i in range(len(dataset['datetime'])):\n",
        "  days.append(dataset['datetime'][i].weekday())\n",
        "dataset['day'] = days"
      ],
      "execution_count": 30,
      "outputs": []
    },
    {
      "cell_type": "code",
      "metadata": {
        "id": "LNIyYRRqwnH5",
        "colab_type": "code",
        "colab": {
          "base_uri": "https://localhost:8080/",
          "height": 319
        },
        "outputId": "c5a7cb52-fea2-4932-9747-855a6d80c8aa"
      },
      "source": [
        "dataset.dtypes"
      ],
      "execution_count": 31,
      "outputs": [
        {
          "output_type": "execute_result",
          "data": {
            "text/plain": [
              "datetime      datetime64[ns]\n",
              "season              category\n",
              "holiday             category\n",
              "workingday          category\n",
              "weather             category\n",
              "temp                 float64\n",
              "atemp                float64\n",
              "humidity               int64\n",
              "windspeed            float64\n",
              "casual               float64\n",
              "registered           float64\n",
              "count                float64\n",
              "hour                   int64\n",
              "date                   int64\n",
              "log_count            float64\n",
              "hour_ctg             float64\n",
              "day                    int64\n",
              "dtype: object"
            ]
          },
          "metadata": {
            "tags": []
          },
          "execution_count": 31
        }
      ]
    },
    {
      "cell_type": "code",
      "metadata": {
        "id": "u6ZSzw5HvdY6",
        "colab_type": "code",
        "colab": {}
      },
      "source": [
        "# divide again dataset into train and test\n",
        "train = dataset[pd.to_numeric(dataset['date']) < 20]\n",
        "test = dataset[pd.to_numeric(dataset['date'])>=20]"
      ],
      "execution_count": 32,
      "outputs": []
    },
    {
      "cell_type": "code",
      "metadata": {
        "id": "fxoaCqA_vNqd",
        "colab_type": "code",
        "colab": {
          "base_uri": "https://localhost:8080/",
          "height": 542
        },
        "outputId": "25bd9eac-38f9-4a54-c618-81d65a1f325b"
      },
      "source": [
        "# Boxplot shows users’ demand over days.\n",
        "plt.figure(figsize=(15,8))\n",
        "sb.boxplot(x='day',y='count',data=train)"
      ],
      "execution_count": 41,
      "outputs": [
        {
          "output_type": "stream",
          "text": [
            "No handles with labels found to put in legend.\n"
          ],
          "name": "stderr"
        },
        {
          "output_type": "execute_result",
          "data": {
            "text/plain": [
              "<matplotlib.legend.Legend at 0x7f9d4b1ae588>"
            ]
          },
          "metadata": {
            "tags": []
          },
          "execution_count": 41
        },
        {
          "output_type": "display_data",
          "data": {
            "image/png": "[encoded data removed]",
            "text/plain": [
              "<Figure size 1080x576 with 1 Axes>"
            ]
          },
          "metadata": {
            "tags": [],
            "needs_background": "light"
          }
        }
      ]
    },
    {
      "cell_type": "markdown",
      "metadata": {
        "id": "11hoLh7TvQv7",
        "colab_type": "text"
      },
      "source": [
        "- In this plot: 0-Monday, 1-Tuesday, 2-Wednesday, 3-Thursday, 4-Friday, 5-Saturday, 6-Sunday."
      ]
    },
    {
      "cell_type": "code",
      "metadata": {
        "id": "ivlavrurxe-u",
        "colab_type": "code",
        "colab": {
          "base_uri": "https://localhost:8080/",
          "height": 583
        },
        "outputId": "85d3f139-5352-4b4a-be3d-5f90272a7d22"
      },
      "source": [
        "# Boxplot shows users’ demand over holidays.\n",
        "fig, (axis1,axis2) = plt.subplots(1,2)\n",
        "fig.set_size_inches(20,10)\n",
        "sb.boxplot(x='holiday',y='count',data=train, ax=axis1)\n",
        "sb.boxplot(x='workingday',y='count',data=train,ax=axis2)\n",
        "\n",
        "axis1.set_title('Count per holidayday')\n",
        "axis2.set_title('Count per workingday')"
      ],
      "execution_count": 42,
      "outputs": [
        {
          "output_type": "execute_result",
          "data": {
            "text/plain": [
              "Text(0.5, 1.0, 'Count per workingday')"
            ]
          },
          "metadata": {
            "tags": []
          },
          "execution_count": 42
        },
        {
          "output_type": "display_data",
          "data": {
            "image/png": "[encoded data removed]",
            "text/plain": [
              "<Figure size 1440x720 with 2 Axes>"
            ]
          },
          "metadata": {
            "tags": [],
            "needs_background": "light"
          }
        }
      ]
    },
    {
      "cell_type": "markdown",
      "metadata": {
        "id": "x2LGEPnfyV8c",
        "colab_type": "text"
      },
      "source": [
        "- 'holiday' boxplot and 'workingday' boxplot are similar."
      ]
    },
    {
      "cell_type": "markdown",
      "metadata": {
        "id": "ZnKBveRvq5Sh",
        "colab_type": "text"
      },
      "source": [
        "## Weather trending"
      ]
    },
    {
      "cell_type": "code",
      "metadata": {
        "id": "8udUZmPSxa1x",
        "colab_type": "code",
        "colab": {
          "base_uri": "https://localhost:8080/",
          "height": 586
        },
        "outputId": "8a7c4179-4cae-4301-c564-9c243833e964"
      },
      "source": [
        "# Boxplot shows registered and casual users’ demand each weather.\n",
        "fig, (axis1,axis2) = plt.subplots(1,2)\n",
        "fig.set_size_inches(20,10)\n",
        "sb.boxplot(x='weather',y='casual',data=train,ax=axis1)\n",
        "sb.boxplot(x='weather',y='registered',data=train,ax=axis2)\n",
        "\n",
        "axis1.set_title('Casual per weather')\n",
        "axis2.set_title('Registered per weather')"
      ],
      "execution_count": 43,
      "outputs": [
        {
          "output_type": "execute_result",
          "data": {
            "text/plain": [
              "Text(0.5, 1.0, 'Registered per weather')"
            ]
          },
          "metadata": {
            "tags": []
          },
          "execution_count": 43
        },
        {
          "output_type": "display_data",
          "data": {
            "image/png": "[encoded data removed]",
            "text/plain": [
              "<Figure size 1440x720 with 2 Axes>"
            ]
          },
          "metadata": {
            "tags": [],
            "needs_background": "light"
          }
        }
      ]
    },
    {
      "cell_type": "markdown",
      "metadata": {
        "id": "Op72nz3_rAmB",
        "colab_type": "text"
      },
      "source": [
        "## Comparision of bike rentals between 2011 and 2012"
      ]
    },
    {
      "cell_type": "code",
      "metadata": {
        "id": "kJxAtq3rxxiV",
        "colab_type": "code",
        "colab": {}
      },
      "source": [
        "# Extract 'year' from datetime.\n",
        "years = []\n",
        "for i in range(len(dataset['datetime'])):\n",
        "  years.append(dataset['datetime'][i].year)\n",
        "dataset['year'] = years"
      ],
      "execution_count": 44,
      "outputs": []
    },
    {
      "cell_type": "code",
      "metadata": {
        "id": "XfCXC0lky6de",
        "colab_type": "code",
        "colab": {}
      },
      "source": [
        "# divide again dataset into train and test\n",
        "train = dataset[pd.to_numeric(dataset['date']) < 20]\n",
        "test = dataset[pd.to_numeric(dataset['date'])>=20]"
      ],
      "execution_count": 45,
      "outputs": []
    },
    {
      "cell_type": "code",
      "metadata": {
        "id": "aLR5eQjPzCpj",
        "colab_type": "code",
        "colab": {
          "base_uri": "https://localhost:8080/",
          "height": 530
        },
        "outputId": "7f7cd5b8-dfa9-4a61-dd82-cc21ad3db004"
      },
      "source": [
        "# Boxplot of bike rentals between '2011' and '2012'\n",
        "plt.figure(figsize=(15,8))\n",
        "sb.boxplot(x='year',y='count',data=train)\n",
        "plt.title('bike rentals between 2011 and 2012')"
      ],
      "execution_count": 46,
      "outputs": [
        {
          "output_type": "execute_result",
          "data": {
            "text/plain": [
              "Text(0.5, 1.0, 'bike rentals between 2011 and 2012')"
            ]
          },
          "metadata": {
            "tags": []
          },
          "execution_count": 46
        },
        {
          "output_type": "display_data",
          "data": {
            "image/png": "[encoded data removed]",
            "text/plain": [
              "<Figure size 1080x576 with 1 Axes>"
            ]
          },
          "metadata": {
            "tags": [],
            "needs_background": "light"
          }
        }
      ]
    },
    {
      "cell_type": "markdown",
      "metadata": {
        "id": "_4vbQPhP1jOV",
        "colab_type": "text"
      },
      "source": [
        "##Season trending"
      ]
    },
    {
      "cell_type": "code",
      "metadata": {
        "id": "rnBIvT3t2-V-",
        "colab_type": "code",
        "colab": {}
      },
      "source": [
        "# Combine 'year' and 'season'\n",
        "dataset['year_season']= dataset['year'] + pd.to_numeric(dataset['season'])/10"
      ],
      "execution_count": 47,
      "outputs": []
    },
    {
      "cell_type": "code",
      "metadata": {
        "id": "847PpAqb3IIh",
        "colab_type": "code",
        "colab": {}
      },
      "source": [
        "# divide again dataset into train and test\n",
        "train = dataset[pd.to_numeric(dataset['date']) < 20]\n",
        "test = dataset[pd.to_numeric(dataset['date'])>=20]"
      ],
      "execution_count": 48,
      "outputs": []
    },
    {
      "cell_type": "code",
      "metadata": {
        "id": "cvW0jyKi1eql",
        "colab_type": "code",
        "colab": {
          "base_uri": "https://localhost:8080/",
          "height": 530
        },
        "outputId": "52a0a049-c400-49f5-d748-138154c2d1ad"
      },
      "source": [
        "plt.figure(figsize=(15,8))\n",
        "sb.boxplot(x='year_season',y='count',data=train)\n",
        "plt.title('bike rentals between each seasons in 2011 and 2012')"
      ],
      "execution_count": 49,
      "outputs": [
        {
          "output_type": "execute_result",
          "data": {
            "text/plain": [
              "Text(0.5, 1.0, 'bike rentals between each seasons in 2011 and 2012')"
            ]
          },
          "metadata": {
            "tags": []
          },
          "execution_count": 49
        },
        {
          "output_type": "display_data",
          "data": {
            "image/png": "[encoded data removed]",
            "text/plain": [
              "<Figure size 1080x576 with 1 Axes>"
            ]
          },
          "metadata": {
            "tags": [],
            "needs_background": "light"
          }
        }
      ]
    },
    {
      "cell_type": "markdown",
      "metadata": {
        "id": "jiEqo8OP37mo",
        "colab_type": "text"
      },
      "source": [
        "- Amount of bike rentals in season 1,4 of 2011 and season 1 of 2012 is lower than the others season and there a lot outliers.\n",
        "- We feature this 'year_season' using Median of each season."
      ]
    },
    {
      "cell_type": "code",
      "metadata": {
        "id": "giBWKTZVphsj",
        "colab_type": "code",
        "colab": {}
      },
      "source": [
        "# store median count each year seasons in x, join dataset with respect to 'year_season'.\n",
        "x = dataset.groupby('year_season')[['count']].median()\n",
        "x.columns = ['count_season']\n",
        "dataset = dataset.join(x,on='year_season')"
      ],
      "execution_count": 50,
      "outputs": []
    },
    {
      "cell_type": "markdown",
      "metadata": {
        "id": "WQBVoNv1zqfw",
        "colab_type": "text"
      },
      "source": [
        "## Change datatype."
      ]
    },
    {
      "cell_type": "code",
      "metadata": {
        "id": "Gdiy7Hs0zo-a",
        "colab_type": "code",
        "colab": {}
      },
      "source": [
        "# Convert to 'category'.\n",
        "list_var = ['hour_ctg','day','year','year_season','count_season']\n",
        "for var in list_var:\n",
        "  dataset[var] = dataset[var].astype('category')"
      ],
      "execution_count": 51,
      "outputs": []
    },
    {
      "cell_type": "code",
      "metadata": {
        "id": "ntNc7nELzAuB",
        "colab_type": "code",
        "colab": {}
      },
      "source": [
        "# divide again dataset into train and test\n",
        "train = dataset[pd.to_numeric(dataset['date']) < 20]\n",
        "test = dataset[pd.to_numeric(dataset['date'])>=20]"
      ],
      "execution_count": 52,
      "outputs": []
    },
    {
      "cell_type": "markdown",
      "metadata": {
        "id": "3Cv5KzFI7cLg",
        "colab_type": "text"
      },
      "source": [
        "# **Modeling**"
      ]
    },
    {
      "cell_type": "code",
      "metadata": {
        "id": "ACfMu7Vxo2e3",
        "colab_type": "code",
        "colab": {
          "base_uri": "https://localhost:8080/",
          "height": 370
        },
        "outputId": "0be58d21-f964-4b3b-aed7-783e84e55527"
      },
      "source": [
        "train.dtypes"
      ],
      "execution_count": 54,
      "outputs": [
        {
          "output_type": "execute_result",
          "data": {
            "text/plain": [
              "datetime        datetime64[ns]\n",
              "season                category\n",
              "holiday               category\n",
              "workingday            category\n",
              "weather               category\n",
              "temp                   float64\n",
              "atemp                  float64\n",
              "humidity                 int64\n",
              "windspeed              float64\n",
              "casual                 float64\n",
              "registered             float64\n",
              "count                  float64\n",
              "hour                     int64\n",
              "date                     int64\n",
              "log_count              float64\n",
              "hour_ctg              category\n",
              "day                   category\n",
              "year                  category\n",
              "year_season           category\n",
              "count_season          category\n",
              "dtype: object"
            ]
          },
          "metadata": {
            "tags": []
          },
          "execution_count": 54
        }
      ]
    },
    {
      "cell_type": "code",
      "metadata": {
        "id": "FjntuaaQzNEb",
        "colab_type": "code",
        "colab": {
          "base_uri": "https://localhost:8080/",
          "height": 758
        },
        "outputId": "d0dae3b2-f94f-4f0a-ab2a-52f0c801865f"
      },
      "source": [
        "train"
      ],
      "execution_count": 53,
      "outputs": [
        {
          "output_type": "execute_result",
          "data": {
            "text/html": [
              "<div>\n",
              "<style scoped>\n",
              "    .dataframe tbody tr th:only-of-type {\n",
              "        vertical-align: middle;\n",
              "    }\n",
              "\n",
              "    .dataframe tbody tr th {\n",
              "        vertical-align: top;\n",
              "    }\n",
              "\n",
              "    .dataframe thead th {\n",
              "        text-align: right;\n",
              "    }\n",
              "</style>\n",
              "<table border=\"1\" class=\"dataframe\">\n",
              "  <thead>\n",
              "    <tr style=\"text-align: right;\">\n",
              "      <th></th>\n",
              "      <th>datetime</th>\n",
              "      <th>season</th>\n",
              "      <th>holiday</th>\n",
              "      <th>workingday</th>\n",
              "      <th>weather</th>\n",
              "      <th>temp</th>\n",
              "      <th>atemp</th>\n",
              "      <th>humidity</th>\n",
              "      <th>windspeed</th>\n",
              "      <th>casual</th>\n",
              "      <th>registered</th>\n",
              "      <th>count</th>\n",
              "      <th>hour</th>\n",
              "      <th>date</th>\n",
              "      <th>log_count</th>\n",
              "      <th>hour_ctg</th>\n",
              "      <th>day</th>\n",
              "      <th>year</th>\n",
              "      <th>year_season</th>\n",
              "      <th>count_season</th>\n",
              "    </tr>\n",
              "  </thead>\n",
              "  <tbody>\n",
              "    <tr>\n",
              "      <th>0</th>\n",
              "      <td>2011-01-01 00:00:00</td>\n",
              "      <td>1</td>\n",
              "      <td>0</td>\n",
              "      <td>0</td>\n",
              "      <td>1</td>\n",
              "      <td>9.84</td>\n",
              "      <td>14.395</td>\n",
              "      <td>81</td>\n",
              "      <td>12.73654</td>\n",
              "      <td>3.0</td>\n",
              "      <td>13.0</td>\n",
              "      <td>16.0</td>\n",
              "      <td>0</td>\n",
              "      <td>1</td>\n",
              "      <td>2.772589</td>\n",
              "      <td>1.0</td>\n",
              "      <td>5</td>\n",
              "      <td>2011</td>\n",
              "      <td>2011.1</td>\n",
              "      <td>12.5</td>\n",
              "    </tr>\n",
              "    <tr>\n",
              "      <th>1</th>\n",
              "      <td>2011-01-01 01:00:00</td>\n",
              "      <td>1</td>\n",
              "      <td>0</td>\n",
              "      <td>0</td>\n",
              "      <td>1</td>\n",
              "      <td>9.02</td>\n",
              "      <td>13.635</td>\n",
              "      <td>80</td>\n",
              "      <td>12.73654</td>\n",
              "      <td>8.0</td>\n",
              "      <td>32.0</td>\n",
              "      <td>40.0</td>\n",
              "      <td>1</td>\n",
              "      <td>1</td>\n",
              "      <td>3.688879</td>\n",
              "      <td>1.0</td>\n",
              "      <td>5</td>\n",
              "      <td>2011</td>\n",
              "      <td>2011.1</td>\n",
              "      <td>12.5</td>\n",
              "    </tr>\n",
              "    <tr>\n",
              "      <th>2</th>\n",
              "      <td>2011-01-01 02:00:00</td>\n",
              "      <td>1</td>\n",
              "      <td>0</td>\n",
              "      <td>0</td>\n",
              "      <td>1</td>\n",
              "      <td>9.02</td>\n",
              "      <td>13.635</td>\n",
              "      <td>80</td>\n",
              "      <td>12.73654</td>\n",
              "      <td>5.0</td>\n",
              "      <td>27.0</td>\n",
              "      <td>32.0</td>\n",
              "      <td>2</td>\n",
              "      <td>1</td>\n",
              "      <td>3.465736</td>\n",
              "      <td>1.0</td>\n",
              "      <td>5</td>\n",
              "      <td>2011</td>\n",
              "      <td>2011.1</td>\n",
              "      <td>12.5</td>\n",
              "    </tr>\n",
              "    <tr>\n",
              "      <th>3</th>\n",
              "      <td>2011-01-01 03:00:00</td>\n",
              "      <td>1</td>\n",
              "      <td>0</td>\n",
              "      <td>0</td>\n",
              "      <td>1</td>\n",
              "      <td>9.84</td>\n",
              "      <td>14.395</td>\n",
              "      <td>75</td>\n",
              "      <td>12.73654</td>\n",
              "      <td>3.0</td>\n",
              "      <td>10.0</td>\n",
              "      <td>13.0</td>\n",
              "      <td>3</td>\n",
              "      <td>1</td>\n",
              "      <td>2.564949</td>\n",
              "      <td>1.0</td>\n",
              "      <td>5</td>\n",
              "      <td>2011</td>\n",
              "      <td>2011.1</td>\n",
              "      <td>12.5</td>\n",
              "    </tr>\n",
              "    <tr>\n",
              "      <th>4</th>\n",
              "      <td>2011-01-01 04:00:00</td>\n",
              "      <td>1</td>\n",
              "      <td>0</td>\n",
              "      <td>0</td>\n",
              "      <td>1</td>\n",
              "      <td>9.84</td>\n",
              "      <td>14.395</td>\n",
              "      <td>75</td>\n",
              "      <td>12.73654</td>\n",
              "      <td>0.0</td>\n",
              "      <td>1.0</td>\n",
              "      <td>1.0</td>\n",
              "      <td>4</td>\n",
              "      <td>1</td>\n",
              "      <td>0.000000</td>\n",
              "      <td>1.0</td>\n",
              "      <td>5</td>\n",
              "      <td>2011</td>\n",
              "      <td>2011.1</td>\n",
              "      <td>12.5</td>\n",
              "    </tr>\n",
              "    <tr>\n",
              "      <th>...</th>\n",
              "      <td>...</td>\n",
              "      <td>...</td>\n",
              "      <td>...</td>\n",
              "      <td>...</td>\n",
              "      <td>...</td>\n",
              "      <td>...</td>\n",
              "      <td>...</td>\n",
              "      <td>...</td>\n",
              "      <td>...</td>\n",
              "      <td>...</td>\n",
              "      <td>...</td>\n",
              "      <td>...</td>\n",
              "      <td>...</td>\n",
              "      <td>...</td>\n",
              "      <td>...</td>\n",
              "      <td>...</td>\n",
              "      <td>...</td>\n",
              "      <td>...</td>\n",
              "      <td>...</td>\n",
              "      <td>...</td>\n",
              "    </tr>\n",
              "    <tr>\n",
              "      <th>10881</th>\n",
              "      <td>2012-12-19 19:00:00</td>\n",
              "      <td>4</td>\n",
              "      <td>0</td>\n",
              "      <td>1</td>\n",
              "      <td>1</td>\n",
              "      <td>15.58</td>\n",
              "      <td>19.695</td>\n",
              "      <td>50</td>\n",
              "      <td>26.00270</td>\n",
              "      <td>7.0</td>\n",
              "      <td>329.0</td>\n",
              "      <td>336.0</td>\n",
              "      <td>19</td>\n",
              "      <td>19</td>\n",
              "      <td>5.817111</td>\n",
              "      <td>3.0</td>\n",
              "      <td>2</td>\n",
              "      <td>2012</td>\n",
              "      <td>2012.4</td>\n",
              "      <td>53.0</td>\n",
              "    </tr>\n",
              "    <tr>\n",
              "      <th>10882</th>\n",
              "      <td>2012-12-19 20:00:00</td>\n",
              "      <td>4</td>\n",
              "      <td>0</td>\n",
              "      <td>1</td>\n",
              "      <td>1</td>\n",
              "      <td>14.76</td>\n",
              "      <td>17.425</td>\n",
              "      <td>57</td>\n",
              "      <td>15.00130</td>\n",
              "      <td>10.0</td>\n",
              "      <td>231.0</td>\n",
              "      <td>241.0</td>\n",
              "      <td>20</td>\n",
              "      <td>19</td>\n",
              "      <td>5.484797</td>\n",
              "      <td>2.0</td>\n",
              "      <td>2</td>\n",
              "      <td>2012</td>\n",
              "      <td>2012.4</td>\n",
              "      <td>53.0</td>\n",
              "    </tr>\n",
              "    <tr>\n",
              "      <th>10883</th>\n",
              "      <td>2012-12-19 21:00:00</td>\n",
              "      <td>4</td>\n",
              "      <td>0</td>\n",
              "      <td>1</td>\n",
              "      <td>1</td>\n",
              "      <td>13.94</td>\n",
              "      <td>15.910</td>\n",
              "      <td>61</td>\n",
              "      <td>15.00130</td>\n",
              "      <td>4.0</td>\n",
              "      <td>164.0</td>\n",
              "      <td>168.0</td>\n",
              "      <td>21</td>\n",
              "      <td>19</td>\n",
              "      <td>5.123964</td>\n",
              "      <td>2.0</td>\n",
              "      <td>2</td>\n",
              "      <td>2012</td>\n",
              "      <td>2012.4</td>\n",
              "      <td>53.0</td>\n",
              "    </tr>\n",
              "    <tr>\n",
              "      <th>10884</th>\n",
              "      <td>2012-12-19 22:00:00</td>\n",
              "      <td>4</td>\n",
              "      <td>0</td>\n",
              "      <td>1</td>\n",
              "      <td>1</td>\n",
              "      <td>13.94</td>\n",
              "      <td>17.425</td>\n",
              "      <td>61</td>\n",
              "      <td>6.00320</td>\n",
              "      <td>12.0</td>\n",
              "      <td>117.0</td>\n",
              "      <td>129.0</td>\n",
              "      <td>22</td>\n",
              "      <td>19</td>\n",
              "      <td>4.859812</td>\n",
              "      <td>2.0</td>\n",
              "      <td>2</td>\n",
              "      <td>2012</td>\n",
              "      <td>2012.4</td>\n",
              "      <td>53.0</td>\n",
              "    </tr>\n",
              "    <tr>\n",
              "      <th>10885</th>\n",
              "      <td>2012-12-19 23:00:00</td>\n",
              "      <td>4</td>\n",
              "      <td>0</td>\n",
              "      <td>1</td>\n",
              "      <td>1</td>\n",
              "      <td>13.12</td>\n",
              "      <td>16.665</td>\n",
              "      <td>66</td>\n",
              "      <td>8.99810</td>\n",
              "      <td>4.0</td>\n",
              "      <td>84.0</td>\n",
              "      <td>88.0</td>\n",
              "      <td>23</td>\n",
              "      <td>19</td>\n",
              "      <td>4.477337</td>\n",
              "      <td>1.0</td>\n",
              "      <td>2</td>\n",
              "      <td>2012</td>\n",
              "      <td>2012.4</td>\n",
              "      <td>53.0</td>\n",
              "    </tr>\n",
              "  </tbody>\n",
              "</table>\n",
              "<p>10886 rows × 20 columns</p>\n",
              "</div>"
            ],
            "text/plain": [
              "                 datetime season holiday  ...  year year_season  count_season\n",
              "0     2011-01-01 00:00:00      1       0  ...  2011      2011.1          12.5\n",
              "1     2011-01-01 01:00:00      1       0  ...  2011      2011.1          12.5\n",
              "2     2011-01-01 02:00:00      1       0  ...  2011      2011.1          12.5\n",
              "3     2011-01-01 03:00:00      1       0  ...  2011      2011.1          12.5\n",
              "4     2011-01-01 04:00:00      1       0  ...  2011      2011.1          12.5\n",
              "...                   ...    ...     ...  ...   ...         ...           ...\n",
              "10881 2012-12-19 19:00:00      4       0  ...  2012      2012.4          53.0\n",
              "10882 2012-12-19 20:00:00      4       0  ...  2012      2012.4          53.0\n",
              "10883 2012-12-19 21:00:00      4       0  ...  2012      2012.4          53.0\n",
              "10884 2012-12-19 22:00:00      4       0  ...  2012      2012.4          53.0\n",
              "10885 2012-12-19 23:00:00      4       0  ...  2012      2012.4          53.0\n",
              "\n",
              "[10886 rows x 20 columns]"
            ]
          },
          "metadata": {
            "tags": []
          },
          "execution_count": 53
        }
      ]
    },
    {
      "cell_type": "code",
      "metadata": {
        "id": "5RBbMabXvdV1",
        "colab_type": "code",
        "colab": {
          "base_uri": "https://localhost:8080/",
          "height": 758
        },
        "outputId": "4d2bcb39-3c1c-47ee-84da-f0c7088d447c"
      },
      "source": [
        "test.reset_index(drop=True)"
      ],
      "execution_count": 55,
      "outputs": [
        {
          "output_type": "execute_result",
          "data": {
            "text/html": [
              "<div>\n",
              "<style scoped>\n",
              "    .dataframe tbody tr th:only-of-type {\n",
              "        vertical-align: middle;\n",
              "    }\n",
              "\n",
              "    .dataframe tbody tr th {\n",
              "        vertical-align: top;\n",
              "    }\n",
              "\n",
              "    .dataframe thead th {\n",
              "        text-align: right;\n",
              "    }\n",
              "</style>\n",
              "<table border=\"1\" class=\"dataframe\">\n",
              "  <thead>\n",
              "    <tr style=\"text-align: right;\">\n",
              "      <th></th>\n",
              "      <th>datetime</th>\n",
              "      <th>season</th>\n",
              "      <th>holiday</th>\n",
              "      <th>workingday</th>\n",
              "      <th>weather</th>\n",
              "      <th>temp</th>\n",
              "      <th>atemp</th>\n",
              "      <th>humidity</th>\n",
              "      <th>windspeed</th>\n",
              "      <th>casual</th>\n",
              "      <th>registered</th>\n",
              "      <th>count</th>\n",
              "      <th>hour</th>\n",
              "      <th>date</th>\n",
              "      <th>log_count</th>\n",
              "      <th>hour_ctg</th>\n",
              "      <th>day</th>\n",
              "      <th>year</th>\n",
              "      <th>year_season</th>\n",
              "      <th>count_season</th>\n",
              "    </tr>\n",
              "  </thead>\n",
              "  <tbody>\n",
              "    <tr>\n",
              "      <th>0</th>\n",
              "      <td>2011-01-20 00:00:00</td>\n",
              "      <td>1</td>\n",
              "      <td>0</td>\n",
              "      <td>1</td>\n",
              "      <td>1</td>\n",
              "      <td>10.66</td>\n",
              "      <td>11.365</td>\n",
              "      <td>56</td>\n",
              "      <td>26.00270</td>\n",
              "      <td>0.0</td>\n",
              "      <td>0.0</td>\n",
              "      <td>0.0</td>\n",
              "      <td>0</td>\n",
              "      <td>20</td>\n",
              "      <td>-inf</td>\n",
              "      <td>1.0</td>\n",
              "      <td>3</td>\n",
              "      <td>2011</td>\n",
              "      <td>2011.1</td>\n",
              "      <td>12.5</td>\n",
              "    </tr>\n",
              "    <tr>\n",
              "      <th>1</th>\n",
              "      <td>2011-01-20 01:00:00</td>\n",
              "      <td>1</td>\n",
              "      <td>0</td>\n",
              "      <td>1</td>\n",
              "      <td>1</td>\n",
              "      <td>10.66</td>\n",
              "      <td>13.635</td>\n",
              "      <td>56</td>\n",
              "      <td>12.73654</td>\n",
              "      <td>0.0</td>\n",
              "      <td>0.0</td>\n",
              "      <td>0.0</td>\n",
              "      <td>1</td>\n",
              "      <td>20</td>\n",
              "      <td>-inf</td>\n",
              "      <td>1.0</td>\n",
              "      <td>3</td>\n",
              "      <td>2011</td>\n",
              "      <td>2011.1</td>\n",
              "      <td>12.5</td>\n",
              "    </tr>\n",
              "    <tr>\n",
              "      <th>2</th>\n",
              "      <td>2011-01-20 02:00:00</td>\n",
              "      <td>1</td>\n",
              "      <td>0</td>\n",
              "      <td>1</td>\n",
              "      <td>1</td>\n",
              "      <td>10.66</td>\n",
              "      <td>13.635</td>\n",
              "      <td>56</td>\n",
              "      <td>12.73654</td>\n",
              "      <td>0.0</td>\n",
              "      <td>0.0</td>\n",
              "      <td>0.0</td>\n",
              "      <td>2</td>\n",
              "      <td>20</td>\n",
              "      <td>-inf</td>\n",
              "      <td>1.0</td>\n",
              "      <td>3</td>\n",
              "      <td>2011</td>\n",
              "      <td>2011.1</td>\n",
              "      <td>12.5</td>\n",
              "    </tr>\n",
              "    <tr>\n",
              "      <th>3</th>\n",
              "      <td>2011-01-20 03:00:00</td>\n",
              "      <td>1</td>\n",
              "      <td>0</td>\n",
              "      <td>1</td>\n",
              "      <td>1</td>\n",
              "      <td>10.66</td>\n",
              "      <td>12.880</td>\n",
              "      <td>56</td>\n",
              "      <td>11.00140</td>\n",
              "      <td>0.0</td>\n",
              "      <td>0.0</td>\n",
              "      <td>0.0</td>\n",
              "      <td>3</td>\n",
              "      <td>20</td>\n",
              "      <td>-inf</td>\n",
              "      <td>1.0</td>\n",
              "      <td>3</td>\n",
              "      <td>2011</td>\n",
              "      <td>2011.1</td>\n",
              "      <td>12.5</td>\n",
              "    </tr>\n",
              "    <tr>\n",
              "      <th>4</th>\n",
              "      <td>2011-01-20 04:00:00</td>\n",
              "      <td>1</td>\n",
              "      <td>0</td>\n",
              "      <td>1</td>\n",
              "      <td>1</td>\n",
              "      <td>10.66</td>\n",
              "      <td>12.880</td>\n",
              "      <td>56</td>\n",
              "      <td>11.00140</td>\n",
              "      <td>0.0</td>\n",
              "      <td>0.0</td>\n",
              "      <td>0.0</td>\n",
              "      <td>4</td>\n",
              "      <td>20</td>\n",
              "      <td>-inf</td>\n",
              "      <td>1.0</td>\n",
              "      <td>3</td>\n",
              "      <td>2011</td>\n",
              "      <td>2011.1</td>\n",
              "      <td>12.5</td>\n",
              "    </tr>\n",
              "    <tr>\n",
              "      <th>...</th>\n",
              "      <td>...</td>\n",
              "      <td>...</td>\n",
              "      <td>...</td>\n",
              "      <td>...</td>\n",
              "      <td>...</td>\n",
              "      <td>...</td>\n",
              "      <td>...</td>\n",
              "      <td>...</td>\n",
              "      <td>...</td>\n",
              "      <td>...</td>\n",
              "      <td>...</td>\n",
              "      <td>...</td>\n",
              "      <td>...</td>\n",
              "      <td>...</td>\n",
              "      <td>...</td>\n",
              "      <td>...</td>\n",
              "      <td>...</td>\n",
              "      <td>...</td>\n",
              "      <td>...</td>\n",
              "      <td>...</td>\n",
              "    </tr>\n",
              "    <tr>\n",
              "      <th>6488</th>\n",
              "      <td>2012-12-31 19:00:00</td>\n",
              "      <td>1</td>\n",
              "      <td>0</td>\n",
              "      <td>1</td>\n",
              "      <td>2</td>\n",
              "      <td>10.66</td>\n",
              "      <td>12.880</td>\n",
              "      <td>60</td>\n",
              "      <td>11.00140</td>\n",
              "      <td>0.0</td>\n",
              "      <td>0.0</td>\n",
              "      <td>0.0</td>\n",
              "      <td>19</td>\n",
              "      <td>31</td>\n",
              "      <td>-inf</td>\n",
              "      <td>3.0</td>\n",
              "      <td>0</td>\n",
              "      <td>2012</td>\n",
              "      <td>2012.1</td>\n",
              "      <td>23.0</td>\n",
              "    </tr>\n",
              "    <tr>\n",
              "      <th>6489</th>\n",
              "      <td>2012-12-31 20:00:00</td>\n",
              "      <td>1</td>\n",
              "      <td>0</td>\n",
              "      <td>1</td>\n",
              "      <td>2</td>\n",
              "      <td>10.66</td>\n",
              "      <td>12.880</td>\n",
              "      <td>60</td>\n",
              "      <td>11.00140</td>\n",
              "      <td>0.0</td>\n",
              "      <td>0.0</td>\n",
              "      <td>0.0</td>\n",
              "      <td>20</td>\n",
              "      <td>31</td>\n",
              "      <td>-inf</td>\n",
              "      <td>2.0</td>\n",
              "      <td>0</td>\n",
              "      <td>2012</td>\n",
              "      <td>2012.1</td>\n",
              "      <td>23.0</td>\n",
              "    </tr>\n",
              "    <tr>\n",
              "      <th>6490</th>\n",
              "      <td>2012-12-31 21:00:00</td>\n",
              "      <td>1</td>\n",
              "      <td>0</td>\n",
              "      <td>1</td>\n",
              "      <td>1</td>\n",
              "      <td>10.66</td>\n",
              "      <td>12.880</td>\n",
              "      <td>60</td>\n",
              "      <td>11.00140</td>\n",
              "      <td>0.0</td>\n",
              "      <td>0.0</td>\n",
              "      <td>0.0</td>\n",
              "      <td>21</td>\n",
              "      <td>31</td>\n",
              "      <td>-inf</td>\n",
              "      <td>2.0</td>\n",
              "      <td>0</td>\n",
              "      <td>2012</td>\n",
              "      <td>2012.1</td>\n",
              "      <td>23.0</td>\n",
              "    </tr>\n",
              "    <tr>\n",
              "      <th>6491</th>\n",
              "      <td>2012-12-31 22:00:00</td>\n",
              "      <td>1</td>\n",
              "      <td>0</td>\n",
              "      <td>1</td>\n",
              "      <td>1</td>\n",
              "      <td>10.66</td>\n",
              "      <td>13.635</td>\n",
              "      <td>56</td>\n",
              "      <td>8.99810</td>\n",
              "      <td>0.0</td>\n",
              "      <td>0.0</td>\n",
              "      <td>0.0</td>\n",
              "      <td>22</td>\n",
              "      <td>31</td>\n",
              "      <td>-inf</td>\n",
              "      <td>2.0</td>\n",
              "      <td>0</td>\n",
              "      <td>2012</td>\n",
              "      <td>2012.1</td>\n",
              "      <td>23.0</td>\n",
              "    </tr>\n",
              "    <tr>\n",
              "      <th>6492</th>\n",
              "      <td>2012-12-31 23:00:00</td>\n",
              "      <td>1</td>\n",
              "      <td>0</td>\n",
              "      <td>1</td>\n",
              "      <td>1</td>\n",
              "      <td>10.66</td>\n",
              "      <td>13.635</td>\n",
              "      <td>65</td>\n",
              "      <td>8.99810</td>\n",
              "      <td>0.0</td>\n",
              "      <td>0.0</td>\n",
              "      <td>0.0</td>\n",
              "      <td>23</td>\n",
              "      <td>31</td>\n",
              "      <td>-inf</td>\n",
              "      <td>1.0</td>\n",
              "      <td>0</td>\n",
              "      <td>2012</td>\n",
              "      <td>2012.1</td>\n",
              "      <td>23.0</td>\n",
              "    </tr>\n",
              "  </tbody>\n",
              "</table>\n",
              "<p>6493 rows × 20 columns</p>\n",
              "</div>"
            ],
            "text/plain": [
              "                datetime season holiday  ...  year year_season  count_season\n",
              "0    2011-01-20 00:00:00      1       0  ...  2011      2011.1          12.5\n",
              "1    2011-01-20 01:00:00      1       0  ...  2011      2011.1          12.5\n",
              "2    2011-01-20 02:00:00      1       0  ...  2011      2011.1          12.5\n",
              "3    2011-01-20 03:00:00      1       0  ...  2011      2011.1          12.5\n",
              "4    2011-01-20 04:00:00      1       0  ...  2011      2011.1          12.5\n",
              "...                  ...    ...     ...  ...   ...         ...           ...\n",
              "6488 2012-12-31 19:00:00      1       0  ...  2012      2012.1          23.0\n",
              "6489 2012-12-31 20:00:00      1       0  ...  2012      2012.1          23.0\n",
              "6490 2012-12-31 21:00:00      1       0  ...  2012      2012.1          23.0\n",
              "6491 2012-12-31 22:00:00      1       0  ...  2012      2012.1          23.0\n",
              "6492 2012-12-31 23:00:00      1       0  ...  2012      2012.1          23.0\n",
              "\n",
              "[6493 rows x 20 columns]"
            ]
          },
          "metadata": {
            "tags": []
          },
          "execution_count": 55
        }
      ]
    },
    {
      "cell_type": "markdown",
      "metadata": {
        "id": "1ddAMzZhpZI0",
        "colab_type": "text"
      },
      "source": [
        "## Using Random forest regressor."
      ]
    },
    {
      "cell_type": "code",
      "metadata": {
        "id": "6ba14mKupYE0",
        "colab_type": "code",
        "colab": {
          "base_uri": "https://localhost:8080/",
          "height": 134
        },
        "outputId": "df70dfd9-911c-4d11-b451-7d25c71a1b87"
      },
      "source": [
        "features = ['season','holiday','workingday','weather','temp','atemp',\n",
        "            'humidity','windspeed','hour_ctg','day','count_season','year']\n",
        "reg = RandomForestRegressor(n_estimators=100,random_state=0,n_jobs=-1)\n",
        "reg.fit(train[features],train['log_count'])"
      ],
      "execution_count": 58,
      "outputs": [
        {
          "output_type": "execute_result",
          "data": {
            "text/plain": [
              "RandomForestRegressor(bootstrap=True, ccp_alpha=0.0, criterion='mse',\n",
              "                      max_depth=None, max_features='auto', max_leaf_nodes=None,\n",
              "                      max_samples=None, min_impurity_decrease=0.0,\n",
              "                      min_impurity_split=None, min_samples_leaf=1,\n",
              "                      min_samples_split=2, min_weight_fraction_leaf=0.0,\n",
              "                      n_estimators=100, n_jobs=-1, oob_score=False,\n",
              "                      random_state=0, verbose=0, warm_start=False)"
            ]
          },
          "metadata": {
            "tags": []
          },
          "execution_count": 58
        }
      ]
    },
    {
      "cell_type": "code",
      "metadata": {
        "id": "XNFMTJ9Us-6B",
        "colab_type": "code",
        "colab": {
          "base_uri": "https://localhost:8080/",
          "height": 50
        },
        "outputId": "93b4cf39-b6cd-4d05-fd0d-15e539b7417c"
      },
      "source": [
        "log_count_pred = reg.predict(train[features])\n",
        "count_pred = np.exp(log_count_pred)\n",
        "print(count_pred)"
      ],
      "execution_count": 61,
      "outputs": [
        {
          "output_type": "stream",
          "text": [
            "[ 12.34861302  13.18897201  13.18897201 ... 175.86994555 157.54583622\n",
            "  46.62629709]\n"
          ],
          "name": "stdout"
        }
      ]
    },
    {
      "cell_type": "code",
      "metadata": {
        "id": "BYOm4GG6w4oJ",
        "colab_type": "code",
        "colab": {
          "base_uri": "https://localhost:8080/",
          "height": 34
        },
        "outputId": "d3205c75-23ac-4f01-8b3b-90dbc4381b5b"
      },
      "source": [
        "def RMSLE(predict, target):\n",
        "    total = 0 \n",
        "    for k in range(len(predict)):\n",
        "        LPred= np.log1p(predict[k]+1)\n",
        "        LTarg = np.log1p(target[k] + 1)\n",
        "        if not (math.isnan(LPred)) and  not (math.isnan(LTarg)): \n",
        "            total = total + ((LPred-LTarg) **2)\n",
        "        \n",
        "    total = total / len(predict)        \n",
        "    return np.sqrt(total)\n",
        "print ('My RMSLE: ' + str(RMSLE(count_pred,train['count'])) )"
      ],
      "execution_count": 66,
      "outputs": [
        {
          "output_type": "stream",
          "text": [
            "My RMSLE: 0.30290469235770884\n"
          ],
          "name": "stdout"
        }
      ]
    }
  ]
}