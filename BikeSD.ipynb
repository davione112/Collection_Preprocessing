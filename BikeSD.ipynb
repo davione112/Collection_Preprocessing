{
  "nbformat": 4,
  "nbformat_minor": 0,
  "metadata": {
    "colab": {
      "name": "BikeSD.ipynb",
      "provenance": [],
      "toc_visible": true,
      "include_colab_link": true
    },
    "kernelspec": {
      "name": "python3",
      "display_name": "Python 3"
    }
  },
  "cells": [
    {
      "cell_type": "markdown",
      "metadata": {
        "id": "view-in-github",
        "colab_type": "text"
      },
      "source": [
        "<a href=\"https://colab.research.google.com/github/davione112/Collection_Preprocessing/blob/master/BikeSD.ipynb\" target=\"_parent\"><img src=\"https://colab.research.google.com/assets/colab-badge.svg\" alt=\"Open In Colab\"/></a>"
      ]
    },
    {
      "cell_type": "markdown",
      "metadata": {
        "id": "rVa7FjBGoz3O",
        "colab_type": "text"
      },
      "source": [
        "# **Libraries**\n",
        "\n",
        "\n"
      ]
    },
    {
      "cell_type": "code",
      "metadata": {
        "id": "BlN-vL3wodrk",
        "colab_type": "code",
        "colab": {
          "base_uri": "https://localhost:8080/",
          "height": 70
        },
        "outputId": "9034b966-0caf-48b6-b9f3-c5a64e3c675b"
      },
      "source": [
        "import pandas as pd\n",
        "import requests\n",
        "from datetime import datetime\n",
        "import matplotlib.pyplot as plt\n",
        "import seaborn as sb\n",
        "import numpy as np\n",
        "from sklearn import tree"
      ],
      "execution_count": 1,
      "outputs": [
        {
          "output_type": "stream",
          "text": [
            "/usr/local/lib/python3.6/dist-packages/statsmodels/tools/_testing.py:19: FutureWarning: pandas.util.testing is deprecated. Use the functions in the public API at pandas.testing instead.\n",
            "  import pandas.util.testing as tm\n"
          ],
          "name": "stderr"
        }
      ]
    },
    {
      "cell_type": "markdown",
      "metadata": {
        "id": "pmhgOjGAntIW",
        "colab_type": "text"
      },
      "source": [
        "# **Dataset**"
      ]
    },
    {
      "cell_type": "code",
      "metadata": {
        "id": "8CU6iLqgtkG6",
        "colab_type": "code",
        "colab": {}
      },
      "source": [
        "url1 = 'https://raw.githubusercontent.com/davione112/work/master/train.csv'\n",
        "url2 = 'https://raw.githubusercontent.com/davione112/work/master/test.csv'\n",
        "train = pd.read_csv(url1)\n",
        "test = pd.read_csv(url2)"
      ],
      "execution_count": 2,
      "outputs": []
    },
    {
      "cell_type": "markdown",
      "metadata": {
        "id": "ZmfUrwSCn3S8",
        "colab_type": "text"
      },
      "source": [
        "- Brief summaries:\n"
      ]
    },
    {
      "cell_type": "code",
      "metadata": {
        "id": "BSyTW345uOJW",
        "colab_type": "code",
        "colab": {
          "base_uri": "https://localhost:8080/",
          "height": 195
        },
        "outputId": "26f86597-b0d4-43f1-fbc5-85353cea0e99"
      },
      "source": [
        "train.head(5)"
      ],
      "execution_count": 3,
      "outputs": [
        {
          "output_type": "execute_result",
          "data": {
            "text/html": [
              "<div>\n",
              "<style scoped>\n",
              "    .dataframe tbody tr th:only-of-type {\n",
              "        vertical-align: middle;\n",
              "    }\n",
              "\n",
              "    .dataframe tbody tr th {\n",
              "        vertical-align: top;\n",
              "    }\n",
              "\n",
              "    .dataframe thead th {\n",
              "        text-align: right;\n",
              "    }\n",
              "</style>\n",
              "<table border=\"1\" class=\"dataframe\">\n",
              "  <thead>\n",
              "    <tr style=\"text-align: right;\">\n",
              "      <th></th>\n",
              "      <th>datetime</th>\n",
              "      <th>season</th>\n",
              "      <th>holiday</th>\n",
              "      <th>workingday</th>\n",
              "      <th>weather</th>\n",
              "      <th>temp</th>\n",
              "      <th>atemp</th>\n",
              "      <th>humidity</th>\n",
              "      <th>windspeed</th>\n",
              "      <th>casual</th>\n",
              "      <th>registered</th>\n",
              "      <th>count</th>\n",
              "    </tr>\n",
              "  </thead>\n",
              "  <tbody>\n",
              "    <tr>\n",
              "      <th>0</th>\n",
              "      <td>2011-01-01 00:00:00</td>\n",
              "      <td>1</td>\n",
              "      <td>0</td>\n",
              "      <td>0</td>\n",
              "      <td>1</td>\n",
              "      <td>9.84</td>\n",
              "      <td>14.395</td>\n",
              "      <td>81</td>\n",
              "      <td>0.0</td>\n",
              "      <td>3</td>\n",
              "      <td>13</td>\n",
              "      <td>16</td>\n",
              "    </tr>\n",
              "    <tr>\n",
              "      <th>1</th>\n",
              "      <td>2011-01-01 01:00:00</td>\n",
              "      <td>1</td>\n",
              "      <td>0</td>\n",
              "      <td>0</td>\n",
              "      <td>1</td>\n",
              "      <td>9.02</td>\n",
              "      <td>13.635</td>\n",
              "      <td>80</td>\n",
              "      <td>0.0</td>\n",
              "      <td>8</td>\n",
              "      <td>32</td>\n",
              "      <td>40</td>\n",
              "    </tr>\n",
              "    <tr>\n",
              "      <th>2</th>\n",
              "      <td>2011-01-01 02:00:00</td>\n",
              "      <td>1</td>\n",
              "      <td>0</td>\n",
              "      <td>0</td>\n",
              "      <td>1</td>\n",
              "      <td>9.02</td>\n",
              "      <td>13.635</td>\n",
              "      <td>80</td>\n",
              "      <td>0.0</td>\n",
              "      <td>5</td>\n",
              "      <td>27</td>\n",
              "      <td>32</td>\n",
              "    </tr>\n",
              "    <tr>\n",
              "      <th>3</th>\n",
              "      <td>2011-01-01 03:00:00</td>\n",
              "      <td>1</td>\n",
              "      <td>0</td>\n",
              "      <td>0</td>\n",
              "      <td>1</td>\n",
              "      <td>9.84</td>\n",
              "      <td>14.395</td>\n",
              "      <td>75</td>\n",
              "      <td>0.0</td>\n",
              "      <td>3</td>\n",
              "      <td>10</td>\n",
              "      <td>13</td>\n",
              "    </tr>\n",
              "    <tr>\n",
              "      <th>4</th>\n",
              "      <td>2011-01-01 04:00:00</td>\n",
              "      <td>1</td>\n",
              "      <td>0</td>\n",
              "      <td>0</td>\n",
              "      <td>1</td>\n",
              "      <td>9.84</td>\n",
              "      <td>14.395</td>\n",
              "      <td>75</td>\n",
              "      <td>0.0</td>\n",
              "      <td>0</td>\n",
              "      <td>1</td>\n",
              "      <td>1</td>\n",
              "    </tr>\n",
              "  </tbody>\n",
              "</table>\n",
              "</div>"
            ],
            "text/plain": [
              "              datetime  season  holiday  ...  casual  registered  count\n",
              "0  2011-01-01 00:00:00       1        0  ...       3          13     16\n",
              "1  2011-01-01 01:00:00       1        0  ...       8          32     40\n",
              "2  2011-01-01 02:00:00       1        0  ...       5          27     32\n",
              "3  2011-01-01 03:00:00       1        0  ...       3          10     13\n",
              "4  2011-01-01 04:00:00       1        0  ...       0           1      1\n",
              "\n",
              "[5 rows x 12 columns]"
            ]
          },
          "metadata": {
            "tags": []
          },
          "execution_count": 3
        }
      ]
    },
    {
      "cell_type": "code",
      "metadata": {
        "id": "WJE_rLH8v8AF",
        "colab_type": "code",
        "colab": {
          "base_uri": "https://localhost:8080/",
          "height": 195
        },
        "outputId": "5cfda812-b8df-4eb5-d5e1-a6faa01b7ed5"
      },
      "source": [
        "test.head(5)"
      ],
      "execution_count": 4,
      "outputs": [
        {
          "output_type": "execute_result",
          "data": {
            "text/html": [
              "<div>\n",
              "<style scoped>\n",
              "    .dataframe tbody tr th:only-of-type {\n",
              "        vertical-align: middle;\n",
              "    }\n",
              "\n",
              "    .dataframe tbody tr th {\n",
              "        vertical-align: top;\n",
              "    }\n",
              "\n",
              "    .dataframe thead th {\n",
              "        text-align: right;\n",
              "    }\n",
              "</style>\n",
              "<table border=\"1\" class=\"dataframe\">\n",
              "  <thead>\n",
              "    <tr style=\"text-align: right;\">\n",
              "      <th></th>\n",
              "      <th>datetime</th>\n",
              "      <th>season</th>\n",
              "      <th>holiday</th>\n",
              "      <th>workingday</th>\n",
              "      <th>weather</th>\n",
              "      <th>temp</th>\n",
              "      <th>atemp</th>\n",
              "      <th>humidity</th>\n",
              "      <th>windspeed</th>\n",
              "    </tr>\n",
              "  </thead>\n",
              "  <tbody>\n",
              "    <tr>\n",
              "      <th>0</th>\n",
              "      <td>2011-01-20 00:00:00</td>\n",
              "      <td>1</td>\n",
              "      <td>0</td>\n",
              "      <td>1</td>\n",
              "      <td>1</td>\n",
              "      <td>10.66</td>\n",
              "      <td>11.365</td>\n",
              "      <td>56</td>\n",
              "      <td>26.0027</td>\n",
              "    </tr>\n",
              "    <tr>\n",
              "      <th>1</th>\n",
              "      <td>2011-01-20 01:00:00</td>\n",
              "      <td>1</td>\n",
              "      <td>0</td>\n",
              "      <td>1</td>\n",
              "      <td>1</td>\n",
              "      <td>10.66</td>\n",
              "      <td>13.635</td>\n",
              "      <td>56</td>\n",
              "      <td>0.0000</td>\n",
              "    </tr>\n",
              "    <tr>\n",
              "      <th>2</th>\n",
              "      <td>2011-01-20 02:00:00</td>\n",
              "      <td>1</td>\n",
              "      <td>0</td>\n",
              "      <td>1</td>\n",
              "      <td>1</td>\n",
              "      <td>10.66</td>\n",
              "      <td>13.635</td>\n",
              "      <td>56</td>\n",
              "      <td>0.0000</td>\n",
              "    </tr>\n",
              "    <tr>\n",
              "      <th>3</th>\n",
              "      <td>2011-01-20 03:00:00</td>\n",
              "      <td>1</td>\n",
              "      <td>0</td>\n",
              "      <td>1</td>\n",
              "      <td>1</td>\n",
              "      <td>10.66</td>\n",
              "      <td>12.880</td>\n",
              "      <td>56</td>\n",
              "      <td>11.0014</td>\n",
              "    </tr>\n",
              "    <tr>\n",
              "      <th>4</th>\n",
              "      <td>2011-01-20 04:00:00</td>\n",
              "      <td>1</td>\n",
              "      <td>0</td>\n",
              "      <td>1</td>\n",
              "      <td>1</td>\n",
              "      <td>10.66</td>\n",
              "      <td>12.880</td>\n",
              "      <td>56</td>\n",
              "      <td>11.0014</td>\n",
              "    </tr>\n",
              "  </tbody>\n",
              "</table>\n",
              "</div>"
            ],
            "text/plain": [
              "              datetime  season  holiday  ...   atemp  humidity  windspeed\n",
              "0  2011-01-20 00:00:00       1        0  ...  11.365        56    26.0027\n",
              "1  2011-01-20 01:00:00       1        0  ...  13.635        56     0.0000\n",
              "2  2011-01-20 02:00:00       1        0  ...  13.635        56     0.0000\n",
              "3  2011-01-20 03:00:00       1        0  ...  12.880        56    11.0014\n",
              "4  2011-01-20 04:00:00       1        0  ...  12.880        56    11.0014\n",
              "\n",
              "[5 rows x 9 columns]"
            ]
          },
          "metadata": {
            "tags": []
          },
          "execution_count": 4
        }
      ]
    },
    {
      "cell_type": "code",
      "metadata": {
        "id": "d5Q9hapdoKaf",
        "colab_type": "code",
        "colab": {
          "base_uri": "https://localhost:8080/",
          "height": 50
        },
        "outputId": "3ddf49a8-47d2-49da-ff42-792f399155dd"
      },
      "source": [
        "print(train.shape)\n",
        "print(test.shape)"
      ],
      "execution_count": 5,
      "outputs": [
        {
          "output_type": "stream",
          "text": [
            "(10886, 12)\n",
            "(6493, 9)\n"
          ],
          "name": "stdout"
        }
      ]
    },
    {
      "cell_type": "code",
      "metadata": {
        "id": "iwHazjUOxQTf",
        "colab_type": "code",
        "colab": {
          "base_uri": "https://localhost:8080/",
          "height": 235
        },
        "outputId": "a397b2d4-4d93-4f73-dcb5-0ed798eb6dd5"
      },
      "source": [
        "#@title Check for missing data\n",
        "train.isnull().sum()"
      ],
      "execution_count": 6,
      "outputs": [
        {
          "output_type": "execute_result",
          "data": {
            "text/plain": [
              "datetime      0\n",
              "season        0\n",
              "holiday       0\n",
              "workingday    0\n",
              "weather       0\n",
              "temp          0\n",
              "atemp         0\n",
              "humidity      0\n",
              "windspeed     0\n",
              "casual        0\n",
              "registered    0\n",
              "count         0\n",
              "dtype: int64"
            ]
          },
          "metadata": {
            "tags": []
          },
          "execution_count": 6
        }
      ]
    },
    {
      "cell_type": "code",
      "metadata": {
        "id": "nQNIahIyxYlB",
        "colab_type": "code",
        "colab": {
          "base_uri": "https://localhost:8080/",
          "height": 185
        },
        "outputId": "ea32f485-bb5d-4522-b03f-85fa53dcd3c2"
      },
      "source": [
        "test.isnull().sum()"
      ],
      "execution_count": 7,
      "outputs": [
        {
          "output_type": "execute_result",
          "data": {
            "text/plain": [
              "datetime      0\n",
              "season        0\n",
              "holiday       0\n",
              "workingday    0\n",
              "weather       0\n",
              "temp          0\n",
              "atemp         0\n",
              "humidity      0\n",
              "windspeed     0\n",
              "dtype: int64"
            ]
          },
          "metadata": {
            "tags": []
          },
          "execution_count": 7
        }
      ]
    },
    {
      "cell_type": "code",
      "metadata": {
        "id": "tZknoiUjwJyz",
        "colab_type": "code",
        "colab": {}
      },
      "source": [
        "#@title Combine train and test into a dataset.\n",
        "dataset = train.append(test)\n",
        "dataset.reset_index(inplace=True)\n",
        "dataset.drop('index',inplace=True,axis=1)\n",
        "dataset = dataset.fillna(0)\n"
      ],
      "execution_count": 8,
      "outputs": []
    },
    {
      "cell_type": "code",
      "metadata": {
        "id": "UODCdDOJwpry",
        "colab_type": "code",
        "colab": {
          "base_uri": "https://localhost:8080/",
          "height": 195
        },
        "outputId": "2b88fb17-3936-49a5-9f62-40da372bbf9f"
      },
      "source": [
        "dataset.tail(5)"
      ],
      "execution_count": 9,
      "outputs": [
        {
          "output_type": "execute_result",
          "data": {
            "text/html": [
              "<div>\n",
              "<style scoped>\n",
              "    .dataframe tbody tr th:only-of-type {\n",
              "        vertical-align: middle;\n",
              "    }\n",
              "\n",
              "    .dataframe tbody tr th {\n",
              "        vertical-align: top;\n",
              "    }\n",
              "\n",
              "    .dataframe thead th {\n",
              "        text-align: right;\n",
              "    }\n",
              "</style>\n",
              "<table border=\"1\" class=\"dataframe\">\n",
              "  <thead>\n",
              "    <tr style=\"text-align: right;\">\n",
              "      <th></th>\n",
              "      <th>datetime</th>\n",
              "      <th>season</th>\n",
              "      <th>holiday</th>\n",
              "      <th>workingday</th>\n",
              "      <th>weather</th>\n",
              "      <th>temp</th>\n",
              "      <th>atemp</th>\n",
              "      <th>humidity</th>\n",
              "      <th>windspeed</th>\n",
              "      <th>casual</th>\n",
              "      <th>registered</th>\n",
              "      <th>count</th>\n",
              "    </tr>\n",
              "  </thead>\n",
              "  <tbody>\n",
              "    <tr>\n",
              "      <th>17374</th>\n",
              "      <td>2012-12-31 19:00:00</td>\n",
              "      <td>1</td>\n",
              "      <td>0</td>\n",
              "      <td>1</td>\n",
              "      <td>2</td>\n",
              "      <td>10.66</td>\n",
              "      <td>12.880</td>\n",
              "      <td>60</td>\n",
              "      <td>11.0014</td>\n",
              "      <td>0.0</td>\n",
              "      <td>0.0</td>\n",
              "      <td>0.0</td>\n",
              "    </tr>\n",
              "    <tr>\n",
              "      <th>17375</th>\n",
              "      <td>2012-12-31 20:00:00</td>\n",
              "      <td>1</td>\n",
              "      <td>0</td>\n",
              "      <td>1</td>\n",
              "      <td>2</td>\n",
              "      <td>10.66</td>\n",
              "      <td>12.880</td>\n",
              "      <td>60</td>\n",
              "      <td>11.0014</td>\n",
              "      <td>0.0</td>\n",
              "      <td>0.0</td>\n",
              "      <td>0.0</td>\n",
              "    </tr>\n",
              "    <tr>\n",
              "      <th>17376</th>\n",
              "      <td>2012-12-31 21:00:00</td>\n",
              "      <td>1</td>\n",
              "      <td>0</td>\n",
              "      <td>1</td>\n",
              "      <td>1</td>\n",
              "      <td>10.66</td>\n",
              "      <td>12.880</td>\n",
              "      <td>60</td>\n",
              "      <td>11.0014</td>\n",
              "      <td>0.0</td>\n",
              "      <td>0.0</td>\n",
              "      <td>0.0</td>\n",
              "    </tr>\n",
              "    <tr>\n",
              "      <th>17377</th>\n",
              "      <td>2012-12-31 22:00:00</td>\n",
              "      <td>1</td>\n",
              "      <td>0</td>\n",
              "      <td>1</td>\n",
              "      <td>1</td>\n",
              "      <td>10.66</td>\n",
              "      <td>13.635</td>\n",
              "      <td>56</td>\n",
              "      <td>8.9981</td>\n",
              "      <td>0.0</td>\n",
              "      <td>0.0</td>\n",
              "      <td>0.0</td>\n",
              "    </tr>\n",
              "    <tr>\n",
              "      <th>17378</th>\n",
              "      <td>2012-12-31 23:00:00</td>\n",
              "      <td>1</td>\n",
              "      <td>0</td>\n",
              "      <td>1</td>\n",
              "      <td>1</td>\n",
              "      <td>10.66</td>\n",
              "      <td>13.635</td>\n",
              "      <td>65</td>\n",
              "      <td>8.9981</td>\n",
              "      <td>0.0</td>\n",
              "      <td>0.0</td>\n",
              "      <td>0.0</td>\n",
              "    </tr>\n",
              "  </tbody>\n",
              "</table>\n",
              "</div>"
            ],
            "text/plain": [
              "                  datetime  season  holiday  ...  casual  registered  count\n",
              "17374  2012-12-31 19:00:00       1        0  ...     0.0         0.0    0.0\n",
              "17375  2012-12-31 20:00:00       1        0  ...     0.0         0.0    0.0\n",
              "17376  2012-12-31 21:00:00       1        0  ...     0.0         0.0    0.0\n",
              "17377  2012-12-31 22:00:00       1        0  ...     0.0         0.0    0.0\n",
              "17378  2012-12-31 23:00:00       1        0  ...     0.0         0.0    0.0\n",
              "\n",
              "[5 rows x 12 columns]"
            ]
          },
          "metadata": {
            "tags": []
          },
          "execution_count": 9
        }
      ]
    },
    {
      "cell_type": "markdown",
      "metadata": {
        "id": "ZFswafcsxk0l",
        "colab_type": "text"
      },
      "source": [
        "# Understand variables\n"
      ]
    },
    {
      "cell_type": "code",
      "metadata": {
        "id": "bKwfYrC6xrEQ",
        "colab_type": "code",
        "colab": {
          "base_uri": "https://localhost:8080/",
          "height": 235
        },
        "outputId": "6934a524-320d-4a58-f8f3-a39aae59a593"
      },
      "source": [
        "dataset.dtypes"
      ],
      "execution_count": 10,
      "outputs": [
        {
          "output_type": "execute_result",
          "data": {
            "text/plain": [
              "datetime       object\n",
              "season          int64\n",
              "holiday         int64\n",
              "workingday      int64\n",
              "weather         int64\n",
              "temp          float64\n",
              "atemp         float64\n",
              "humidity        int64\n",
              "windspeed     float64\n",
              "casual        float64\n",
              "registered    float64\n",
              "count         float64\n",
              "dtype: object"
            ]
          },
          "metadata": {
            "tags": []
          },
          "execution_count": 10
        }
      ]
    },
    {
      "cell_type": "markdown",
      "metadata": {
        "id": "wIzxXILnqdvG",
        "colab_type": "text"
      },
      "source": [
        "## Distributions of continuous variables"
      ]
    },
    {
      "cell_type": "code",
      "metadata": {
        "id": "G-zke1yEx3UW",
        "colab_type": "code",
        "colab": {
          "base_uri": "https://localhost:8080/",
          "height": 590
        },
        "outputId": "d81c4de2-240c-4b1a-db7b-e433d4a5e2f9"
      },
      "source": [
        "\n",
        "fig, ax = plt.subplots(nrows=2,ncols=2)\n",
        "fig.set_size_inches(20,10)\n",
        "sb.distplot(dataset[\"humidity\"],kde=False,ax=ax[0,0])\n",
        "sb.distplot(dataset[\"temp\"],kde=False,ax=ax[0,1])\n",
        "sb.distplot(dataset[\"atemp\"],kde=False,ax=ax[1,0])\n",
        "sb.distplot(dataset[\"windspeed\"],kde=False,ax=ax[1,1])\n",
        "\n",
        "ax[0,0].set_title(\"Humidity\")\n",
        "ax[0,1].set_title(\"Temperature\")\n",
        "ax[1,0].set_title(\"Atemperature\")\n",
        "ax[1,1].set_title(\"Windspeed\")"
      ],
      "execution_count": 11,
      "outputs": [
        {
          "output_type": "execute_result",
          "data": {
            "text/plain": [
              "Text(0.5, 1.0, 'Windspeed')"
            ]
          },
          "metadata": {
            "tags": []
          },
          "execution_count": 11
        },
        {
          "output_type": "display_data",
          "data": {
            "image/png": "[encoded data removed]",
            "text/plain": [
              "<Figure size 1440x720 with 4 Axes>"
            ]
          },
          "metadata": {
            "tags": [],
            "needs_background": "light"
          }
        }
      ]
    },
    {
      "cell_type": "markdown",
      "metadata": {
        "id": "-SCRI7AxYKxx",
        "colab_type": "text"
      },
      "source": [
        "- There are so many values = 0 in windspeed.\n",
        "- Replace those values by median of column \"windspeed\"."
      ]
    },
    {
      "cell_type": "code",
      "metadata": {
        "id": "DZGzMZt4YezZ",
        "colab_type": "code",
        "colab": {
          "base_uri": "https://localhost:8080/",
          "height": 316
        },
        "outputId": "11e367d2-4203-4aba-cc2f-459102e2f12e"
      },
      "source": [
        "x = dataset['windspeed'].mean()\n",
        "print(x)\n",
        "dataset['windspeed'] = dataset['windspeed'].replace(0,x)\n",
        "sb.distplot(dataset[\"windspeed\"],kde=False)"
      ],
      "execution_count": 12,
      "outputs": [
        {
          "output_type": "stream",
          "text": [
            "12.736539622533591\n"
          ],
          "name": "stdout"
        },
        {
          "output_type": "execute_result",
          "data": {
            "text/plain": [
              "<matplotlib.axes._subplots.AxesSubplot at 0x7f22efa946d8>"
            ]
          },
          "metadata": {
            "tags": []
          },
          "execution_count": 12
        },
        {
          "output_type": "display_data",
          "data": {
            "image/png": "[encoded data removed]",
            "text/plain": [
              "<Figure size 432x288 with 1 Axes>"
            ]
          },
          "metadata": {
            "tags": [],
            "needs_background": "light"
          }
        }
      ]
    },
    {
      "cell_type": "code",
      "metadata": {
        "id": "GwQdSwsSz5zf",
        "colab_type": "code",
        "colab": {
          "base_uri": "https://localhost:8080/",
          "height": 884
        },
        "outputId": "7a3da174-ef4d-4675-a731-8b380d0ac8c7"
      },
      "source": [
        "x = train.corr()\n",
        "plt.figure(figsize=(15,15))\n",
        "sb.heatmap(x, cmap='YlGnBu', annot=True, annot_kws={\"size\":10}, linewidths=0.5)"
      ],
      "execution_count": 13,
      "outputs": [
        {
          "output_type": "execute_result",
          "data": {
            "text/plain": [
              "<matplotlib.axes._subplots.AxesSubplot at 0x7f22ef0d73c8>"
            ]
          },
          "metadata": {
            "tags": []
          },
          "execution_count": 13
        },
        {
          "output_type": "display_data",
          "data": {
            "image/png": "[encoded data removed]",
            "text/plain": [
              "<Figure size 1080x1080 with 2 Axes>"
            ]
          },
          "metadata": {
            "tags": [],
            "needs_background": "light"
          }
        }
      ]
    },
    {
      "cell_type": "markdown",
      "metadata": {
        "id": "w-aH-PyYqnbc",
        "colab_type": "text"
      },
      "source": [
        "## Distributions of categorical variables\n"
      ]
    },
    {
      "cell_type": "code",
      "metadata": {
        "id": "GRLCGbNw-KmS",
        "colab_type": "code",
        "colab": {
          "base_uri": "https://localhost:8080/",
          "height": 587
        },
        "outputId": "2ff680e2-4fb4-4640-80a8-f940204d2101"
      },
      "source": [
        "fig, ax = plt.subplots(nrows=2,ncols=2)\n",
        "fig.set_size_inches(20,10)\n",
        "sb.distplot(dataset[\"season\"],kde=False,ax=ax[0,0])\n",
        "sb.distplot(dataset[\"weather\"],kde=False,ax=ax[0,1])\n",
        "sb.distplot(dataset[\"holiday\"],kde=False,ax=ax[1,0])\n",
        "sb.distplot(dataset[\"workingday\"],kde=False,ax=ax[1,1])\n",
        "\n",
        "ax[0,0].set_title(\"Season\")\n",
        "ax[0,1].set_title(\"Weather\")\n",
        "ax[1,0].set_title(\"Holiday\")\n",
        "ax[1,1].set_title(\"Workingday\")"
      ],
      "execution_count": 14,
      "outputs": [
        {
          "output_type": "execute_result",
          "data": {
            "text/plain": [
              "Text(0.5, 1.0, 'Workingday')"
            ]
          },
          "metadata": {
            "tags": []
          },
          "execution_count": 14
        },
        {
          "output_type": "display_data",
          "data": {
            "image/png": "[encoded data removed]",
            "text/plain": [
              "<Figure size 1440x720 with 4 Axes>"
            ]
          },
          "metadata": {
            "tags": [],
            "needs_background": "light"
          }
        }
      ]
    },
    {
      "cell_type": "markdown",
      "metadata": {
        "id": "PcNYgkVTteXN",
        "colab_type": "text"
      },
      "source": [
        "## Distribution of Count per each hours"
      ]
    },
    {
      "cell_type": "code",
      "metadata": {
        "id": "0z9806kVAT6K",
        "colab_type": "code",
        "colab": {
          "base_uri": "https://localhost:8080/",
          "height": 296
        },
        "outputId": "c3974f7c-2be9-4dd1-e377-724c05df70e5"
      },
      "source": [
        "# boxplot bike rentals per hour in train set.\n",
        "plt.figure(figsize=(15,8))\n",
        "sb.boxplot(x='hour',y='count',data=train)"
      ],
      "execution_count": null,
      "outputs": [
        {
          "output_type": "execute_result",
          "data": {
            "text/plain": [
              "<matplotlib.axes._subplots.AxesSubplot at 0x7f22eb4aa6d8>"
            ]
          },
          "metadata": {
            "tags": []
          },
          "execution_count": 18
        },
        {
          "output_type": "display_data",
          "data": {
            "image/png": "[encoded data removed]",
            "text/plain": [
              "<Figure size 432x288 with 1 Axes>"
            ]
          },
          "metadata": {
            "tags": [],
            "needs_background": "light"
          }
        }
      ]
    },
    {
      "cell_type": "code",
      "metadata": {
        "id": "e-k_g6UXxcuV",
        "colab_type": "code",
        "colab": {
          "base_uri": "https://localhost:8080/",
          "height": 547
        },
        "outputId": "45a99a52-98b5-4719-ec6e-914ffdc59c72"
      },
      "source": [
        "# Natural logarit with count and split into train and test.\n",
        "dataset['log_count'] = np.log(dataset['count'])\n",
        "train = dataset[pd.to_numeric(dataset['date']) < 20]\n",
        "test = dataset[pd.to_numeric(dataset['date']) >=20]\n",
        "\n",
        "# Boxplot for 'log_count'\n",
        "plt.figure(figsize=(15,8))\n",
        "sb.boxplot(x='hour',y='log_count',data=train)"
      ],
      "execution_count": 52,
      "outputs": [
        {
          "output_type": "stream",
          "text": [
            "/usr/local/lib/python3.6/dist-packages/pandas/core/series.py:679: RuntimeWarning: divide by zero encountered in log\n",
            "  result = getattr(ufunc, method)(*inputs, **kwargs)\n"
          ],
          "name": "stderr"
        },
        {
          "output_type": "execute_result",
          "data": {
            "text/plain": [
              "<matplotlib.axes._subplots.AxesSubplot at 0x7f22e859c898>"
            ]
          },
          "metadata": {
            "tags": []
          },
          "execution_count": 52
        },
        {
          "output_type": "display_data",
          "data": {
            "image/png": "[encoded data removed]",
            "text/plain": [
              "<Figure size 1080x576 with 1 Axes>"
            ]
          },
          "metadata": {
            "tags": [],
            "needs_background": "light"
          }
        }
      ]
    },
    {
      "cell_type": "markdown",
      "metadata": {
        "id": "hWkvVTL8qsvJ",
        "colab_type": "text"
      },
      "source": [
        "## Hour trending"
      ]
    },
    {
      "cell_type": "code",
      "metadata": {
        "id": "D9FW2cJN_0h5",
        "colab_type": "code",
        "colab": {}
      },
      "source": [
        "# convert 'datetime' column to datetime datatype\n",
        "dataset['datetime'] = pd.to_datetime(dataset['datetime'],\n",
        "                                     format='%Y-%m-%d %H:%M:%S')"
      ],
      "execution_count": 15,
      "outputs": []
    },
    {
      "cell_type": "code",
      "metadata": {
        "id": "XeUJ-tXmGD_W",
        "colab_type": "code",
        "colab": {}
      },
      "source": [
        "# add 'hour' and 'date' columns to dataset\n",
        "hours = []\n",
        "for i in range(len(dataset['datetime'])):\n",
        "  hours.append(dataset['datetime'][i].hour)\n",
        "dataset[\"hour\"] = hours\n",
        "dates = []\n",
        "for i in range(len(dataset['datetime'])):\n",
        "  dates.append(dataset['datetime'][i].day)\n",
        "dataset[\"date\"] = dates"
      ],
      "execution_count": 16,
      "outputs": []
    },
    {
      "cell_type": "code",
      "metadata": {
        "id": "zDgPHzTnHQNI",
        "colab_type": "code",
        "colab": {}
      },
      "source": [
        "# divide dataset into train and test\n",
        "dataset[['season','holiday','weather','workingday']] = dataset[['season','holiday','weather','workingday']].astype('category')\n",
        "dataset.head(5)\n",
        "train = dataset[pd.to_numeric(dataset['date']) < 20]\n",
        "test = dataset[pd.to_numeric(dataset['date']) >=20]"
      ],
      "execution_count": 17,
      "outputs": []
    },
    {
      "cell_type": "code",
      "metadata": {
        "id": "iyghHBcTJ5DX",
        "colab_type": "code",
        "colab": {
          "base_uri": "https://localhost:8080/",
          "height": 586
        },
        "outputId": "eb52c3c6-bce3-4cfe-b886-4af6241d83bf"
      },
      "source": [
        "fig, (axis1,axis2) = plt.subplots(1,2)\n",
        "fig.set_size_inches(20,10)\n",
        "sb.boxplot(x='hour',y='casual',data=train,ax=axis1)\n",
        "sb.boxplot(x='hour',y='registered',data=train,ax=axis2)\n",
        "\n",
        "axis1.set_title('Casual per hour')\n",
        "axis2.set_title('Registered per hour')"
      ],
      "execution_count": 19,
      "outputs": [
        {
          "output_type": "execute_result",
          "data": {
            "text/plain": [
              "Text(0.5, 1.0, 'Registered per hour')"
            ]
          },
          "metadata": {
            "tags": []
          },
          "execution_count": 19
        },
        {
          "output_type": "display_data",
          "data": {
            "image/png": "[encoded data removed]",
            "text/plain": [
              "<Figure size 1440x720 with 2 Axes>"
            ]
          },
          "metadata": {
            "tags": [],
            "needs_background": "light"
          }
        }
      ]
    },
    {
      "cell_type": "markdown",
      "metadata": {
        "id": "xnBmCaavc10Z",
        "colab_type": "text"
      },
      "source": [
        "- From those 3 plots, we get some prediction:\n",
        "\n",
        "\n",
        "1.   High count: 7-9 hour , 16-19 hour.\n",
        "2.   Average count: 10-15 hour, 20-22 hour.\n",
        "3.   Low count: 0-6 hour, 23 hour.\n",
        "\n",
        "=> We can segregate into categories, with code lines below:\n"
      ]
    },
    {
      "cell_type": "code",
      "metadata": {
        "id": "jqWpLBGoenrH",
        "colab_type": "code",
        "colab": {}
      },
      "source": [
        "dataset['hour'] = dataset['hour'].astype('int64')\n",
        "#dataset['hour_ctg'] = 0\n",
        "dataset.loc[(dataset['hour']>=0) & (dataset['hour']<=6),'hour_ctg'] = 1\n",
        "dataset.loc[(dataset['hour']>=23),'hour_ctg'] = 1\n",
        "dataset.loc[(dataset['hour']>=7) & (dataset['hour']<=9),'hour_ctg'] = 3\n",
        "dataset.loc[(dataset['hour']>=16) & (dataset['hour']<=19),'hour_ctg'] = 3\n",
        "dataset.loc[(dataset['hour']>=10) & (dataset['hour']<=15),'hour_ctg'] = 2\n",
        "dataset.loc[(dataset['hour']>=20) & (dataset['hour']<=22),'hour_ctg'] = 2"
      ],
      "execution_count": 20,
      "outputs": []
    },
    {
      "cell_type": "code",
      "metadata": {
        "id": "sxm3Cw8wtTva",
        "colab_type": "code",
        "colab": {}
      },
      "source": [
        "# divide dataset into train and test\n",
        "train = dataset[pd.to_numeric(dataset['date']) < 20]\n",
        "test = dataset[pd.to_numeric(dataset['date']) >=20]"
      ],
      "execution_count": 21,
      "outputs": []
    },
    {
      "cell_type": "code",
      "metadata": {
        "id": "jpwx8sOxs33i",
        "colab_type": "code",
        "colab": {
          "base_uri": "https://localhost:8080/",
          "height": 297
        },
        "outputId": "d5586474-bb3d-4901-88c2-8bfd13f4dfbf"
      },
      "source": [
        "sb.boxplot(x='hour_ctg',y='count',data=train)"
      ],
      "execution_count": 22,
      "outputs": [
        {
          "output_type": "execute_result",
          "data": {
            "text/plain": [
              "<matplotlib.axes._subplots.AxesSubplot at 0x7f22eb4fc160>"
            ]
          },
          "metadata": {
            "tags": []
          },
          "execution_count": 22
        },
        {
          "output_type": "display_data",
          "data": {
            "image/png": "[encoded data removed]",
            "text/plain": [
              "<Figure size 432x288 with 1 Axes>"
            ]
          },
          "metadata": {
            "tags": [],
            "needs_background": "light"
          }
        }
      ]
    },
    {
      "cell_type": "markdown",
      "metadata": {
        "id": "gc5QHwrcqzlD",
        "colab_type": "text"
      },
      "source": [
        "## Daily trend"
      ]
    },
    {
      "cell_type": "code",
      "metadata": {
        "id": "Rjd7doUlsSTz",
        "colab_type": "code",
        "colab": {}
      },
      "source": [
        "# extracting days of week from datetime\n",
        "days = []\n",
        "for i in range(len(dataset['datetime'])):\n",
        "  days.append(dataset['datetime'][i].weekday())\n",
        "dataset['day'] = days"
      ],
      "execution_count": 23,
      "outputs": []
    },
    {
      "cell_type": "code",
      "metadata": {
        "id": "LNIyYRRqwnH5",
        "colab_type": "code",
        "colab": {
          "base_uri": "https://localhost:8080/",
          "height": 302
        },
        "outputId": "b10d0809-1f2a-42d9-af8c-918c8a12fd47"
      },
      "source": [
        "dataset.dtypes"
      ],
      "execution_count": 24,
      "outputs": [
        {
          "output_type": "execute_result",
          "data": {
            "text/plain": [
              "datetime      datetime64[ns]\n",
              "season              category\n",
              "holiday             category\n",
              "workingday          category\n",
              "weather             category\n",
              "temp                 float64\n",
              "atemp                float64\n",
              "humidity               int64\n",
              "windspeed            float64\n",
              "casual               float64\n",
              "registered           float64\n",
              "count                float64\n",
              "hour                   int64\n",
              "date                   int64\n",
              "hour_ctg             float64\n",
              "day                    int64\n",
              "dtype: object"
            ]
          },
          "metadata": {
            "tags": []
          },
          "execution_count": 24
        }
      ]
    },
    {
      "cell_type": "code",
      "metadata": {
        "id": "u6ZSzw5HvdY6",
        "colab_type": "code",
        "colab": {}
      },
      "source": [
        "# divide again dataset into train and test\n",
        "train = dataset[pd.to_numeric(dataset['date']) < 20]\n",
        "test = dataset[pd.to_numeric(dataset['date'])>=20]"
      ],
      "execution_count": 25,
      "outputs": []
    },
    {
      "cell_type": "code",
      "metadata": {
        "id": "fxoaCqA_vNqd",
        "colab_type": "code",
        "colab": {
          "base_uri": "https://localhost:8080/",
          "height": 514
        },
        "outputId": "a9c50f92-da3d-4c0b-b326-63135be7cba6"
      },
      "source": [
        "# Boxplot shows users’ demand over days.\n",
        "plt.figure(figsize=(15,8))\n",
        "sb.boxplot(x='day',y='count',data=train)"
      ],
      "execution_count": 26,
      "outputs": [
        {
          "output_type": "execute_result",
          "data": {
            "text/plain": [
              "<matplotlib.axes._subplots.AxesSubplot at 0x7f22eb4fc898>"
            ]
          },
          "metadata": {
            "tags": []
          },
          "execution_count": 26
        },
        {
          "output_type": "display_data",
          "data": {
            "image/png": "[encoded data removed]",
            "text/plain": [
              "<Figure size 1080x576 with 1 Axes>"
            ]
          },
          "metadata": {
            "tags": [],
            "needs_background": "light"
          }
        }
      ]
    },
    {
      "cell_type": "markdown",
      "metadata": {
        "id": "11hoLh7TvQv7",
        "colab_type": "text"
      },
      "source": [
        "- In this plot: 0-Monday, 1-Tuesday, 2-Wednesday, 3-Thursday, 4-Friday, 5-Saturday, 6-Sunday."
      ]
    },
    {
      "cell_type": "code",
      "metadata": {
        "id": "ivlavrurxe-u",
        "colab_type": "code",
        "colab": {
          "base_uri": "https://localhost:8080/",
          "height": 583
        },
        "outputId": "0cd2ce32-deaa-49ba-bfff-b5b7ba78d728"
      },
      "source": [
        "# Boxplot shows users’ demand over holidays.\n",
        "fig, (axis1,axis2) = plt.subplots(1,2)\n",
        "fig.set_size_inches(20,10)\n",
        "sb.boxplot(x='holiday',y='count',data=train, ax=axis1)\n",
        "sb.boxplot(x='workingday',y='count',data=train,ax=axis2)\n",
        "\n",
        "axis1.set_title('Count per holidayday')\n",
        "axis2.set_title('Count per workingday')"
      ],
      "execution_count": 27,
      "outputs": [
        {
          "output_type": "execute_result",
          "data": {
            "text/plain": [
              "Text(0.5, 1.0, 'Count per workingday')"
            ]
          },
          "metadata": {
            "tags": []
          },
          "execution_count": 27
        },
        {
          "output_type": "display_data",
          "data": {
            "image/png": "[encoded data removed]",
            "text/plain": [
              "<Figure size 1440x720 with 2 Axes>"
            ]
          },
          "metadata": {
            "tags": [],
            "needs_background": "light"
          }
        }
      ]
    },
    {
      "cell_type": "markdown",
      "metadata": {
        "id": "x2LGEPnfyV8c",
        "colab_type": "text"
      },
      "source": [
        "- 'holiday' boxplot and 'workingday' boxplot are similar."
      ]
    },
    {
      "cell_type": "markdown",
      "metadata": {
        "id": "ZnKBveRvq5Sh",
        "colab_type": "text"
      },
      "source": [
        "## Weather trending"
      ]
    },
    {
      "cell_type": "code",
      "metadata": {
        "id": "8udUZmPSxa1x",
        "colab_type": "code",
        "colab": {
          "base_uri": "https://localhost:8080/",
          "height": 586
        },
        "outputId": "79326cb9-0776-4bf8-81dd-674c6c80b689"
      },
      "source": [
        "# Boxplot shows registered and casual users’ demand each weather.\n",
        "fig, (axis1,axis2) = plt.subplots(1,2)\n",
        "fig.set_size_inches(20,10)\n",
        "sb.boxplot(x='weather',y='casual',data=train,ax=axis1)\n",
        "sb.boxplot(x='weather',y='registered',data=train,ax=axis2)\n",
        "\n",
        "axis1.set_title('Casual per weather')\n",
        "axis2.set_title('Registered per weather')"
      ],
      "execution_count": 28,
      "outputs": [
        {
          "output_type": "execute_result",
          "data": {
            "text/plain": [
              "Text(0.5, 1.0, 'Registered per weather')"
            ]
          },
          "metadata": {
            "tags": []
          },
          "execution_count": 28
        },
        {
          "output_type": "display_data",
          "data": {
            "image/png": "[encoded data removed]",
            "text/plain": [
              "<Figure size 1440x720 with 2 Axes>"
            ]
          },
          "metadata": {
            "tags": [],
            "needs_background": "light"
          }
        }
      ]
    },
    {
      "cell_type": "markdown",
      "metadata": {
        "id": "Op72nz3_rAmB",
        "colab_type": "text"
      },
      "source": [
        "## Comparision of bike rentals between 2011 and 2012"
      ]
    },
    {
      "cell_type": "code",
      "metadata": {
        "id": "kJxAtq3rxxiV",
        "colab_type": "code",
        "colab": {}
      },
      "source": [
        "# Extract 'year' from datetime.\n",
        "years = []\n",
        "for i in range(len(dataset['datetime'])):\n",
        "  years.append(dataset['datetime'][i].year)\n",
        "dataset['year'] = years"
      ],
      "execution_count": 29,
      "outputs": []
    },
    {
      "cell_type": "code",
      "metadata": {
        "id": "XfCXC0lky6de",
        "colab_type": "code",
        "colab": {}
      },
      "source": [
        "# divide again dataset into train and test\n",
        "train = dataset[pd.to_numeric(dataset['date']) < 20]\n",
        "test = dataset[pd.to_numeric(dataset['date'])>=20]"
      ],
      "execution_count": 30,
      "outputs": []
    },
    {
      "cell_type": "code",
      "metadata": {
        "id": "aLR5eQjPzCpj",
        "colab_type": "code",
        "colab": {
          "base_uri": "https://localhost:8080/",
          "height": 530
        },
        "outputId": "c8054ccc-77f3-45f0-d1f6-021d0483fc72"
      },
      "source": [
        "# Boxplot of bike rentals between '2011' and '2012'\n",
        "plt.figure(figsize=(15,8))\n",
        "sb.boxplot(x='year',y='count',data=train)\n",
        "plt.title('bike rentals between 2011 and 2012')"
      ],
      "execution_count": 31,
      "outputs": [
        {
          "output_type": "execute_result",
          "data": {
            "text/plain": [
              "Text(0.5, 1.0, 'bike rentals between 2011 and 2012')"
            ]
          },
          "metadata": {
            "tags": []
          },
          "execution_count": 31
        },
        {
          "output_type": "display_data",
          "data": {
            "image/png": "[encoded data removed]",
            "text/plain": [
              "<Figure size 1080x576 with 1 Axes>"
            ]
          },
          "metadata": {
            "tags": [],
            "needs_background": "light"
          }
        }
      ]
    },
    {
      "cell_type": "markdown",
      "metadata": {
        "id": "_4vbQPhP1jOV",
        "colab_type": "text"
      },
      "source": [
        "##Season trending"
      ]
    },
    {
      "cell_type": "code",
      "metadata": {
        "id": "rnBIvT3t2-V-",
        "colab_type": "code",
        "colab": {}
      },
      "source": [
        "# Combine 'year' and 'season'\n",
        "dataset['year_season']= dataset['year'] + pd.to_numeric(dataset['season'])/10"
      ],
      "execution_count": 32,
      "outputs": []
    },
    {
      "cell_type": "code",
      "metadata": {
        "id": "847PpAqb3IIh",
        "colab_type": "code",
        "colab": {}
      },
      "source": [
        "# divide again dataset into train and test\n",
        "train = dataset[pd.to_numeric(dataset['date']) < 20]\n",
        "test = dataset[pd.to_numeric(dataset['date'])>=20]"
      ],
      "execution_count": 33,
      "outputs": []
    },
    {
      "cell_type": "code",
      "metadata": {
        "id": "cvW0jyKi1eql",
        "colab_type": "code",
        "colab": {
          "base_uri": "https://localhost:8080/",
          "height": 530
        },
        "outputId": "555b7c1e-b573-49a0-dbd7-484e735d53eb"
      },
      "source": [
        "plt.figure(figsize=(15,8))\n",
        "sb.boxplot(x='year_season',y='count',data=train)\n",
        "plt.title('bike rentals between each seasons in 2011 and 2012')"
      ],
      "execution_count": 34,
      "outputs": [
        {
          "output_type": "execute_result",
          "data": {
            "text/plain": [
              "Text(0.5, 1.0, 'bike rentals between each seasons in 2011 and 2012')"
            ]
          },
          "metadata": {
            "tags": []
          },
          "execution_count": 34
        },
        {
          "output_type": "display_data",
          "data": {
            "image/png": "[encoded data removed]",
            "text/plain": [
              "<Figure size 1080x576 with 1 Axes>"
            ]
          },
          "metadata": {
            "tags": [],
            "needs_background": "light"
          }
        }
      ]
    },
    {
      "cell_type": "markdown",
      "metadata": {
        "id": "jiEqo8OP37mo",
        "colab_type": "text"
      },
      "source": [
        "- Amount of bike rentals in season 1,4 of 2011 and season 1 of 2012 is lower than the others season and there a lot outliers.\n",
        "- We feature this 'year_season' using Median of each season."
      ]
    },
    {
      "cell_type": "code",
      "metadata": {
        "id": "giBWKTZVphsj",
        "colab_type": "code",
        "colab": {
          "base_uri": "https://localhost:8080/",
          "height": 758
        },
        "outputId": "a732f64a-667b-41c9-d78f-27f770f98756"
      },
      "source": [
        "# store median count each year seasons in x, join dataset with respect to 'year_season'.\n",
        "x = dataset.groupby('year_season')[['count']].median()\n",
        "x.columns = ['count_season']\n",
        "dataset = dataset.join(x,on='year_season')"
      ],
      "execution_count": 41,
      "outputs": [
        {
          "output_type": "execute_result",
          "data": {
            "text/html": [
              "<div>\n",
              "<style scoped>\n",
              "    .dataframe tbody tr th:only-of-type {\n",
              "        vertical-align: middle;\n",
              "    }\n",
              "\n",
              "    .dataframe tbody tr th {\n",
              "        vertical-align: top;\n",
              "    }\n",
              "\n",
              "    .dataframe thead th {\n",
              "        text-align: right;\n",
              "    }\n",
              "</style>\n",
              "<table border=\"1\" class=\"dataframe\">\n",
              "  <thead>\n",
              "    <tr style=\"text-align: right;\">\n",
              "      <th></th>\n",
              "      <th>datetime</th>\n",
              "      <th>season</th>\n",
              "      <th>holiday</th>\n",
              "      <th>workingday</th>\n",
              "      <th>weather</th>\n",
              "      <th>temp</th>\n",
              "      <th>atemp</th>\n",
              "      <th>humidity</th>\n",
              "      <th>windspeed</th>\n",
              "      <th>casual</th>\n",
              "      <th>registered</th>\n",
              "      <th>count</th>\n",
              "      <th>hour</th>\n",
              "      <th>date</th>\n",
              "      <th>hour_ctg</th>\n",
              "      <th>day</th>\n",
              "      <th>year</th>\n",
              "      <th>year_season</th>\n",
              "      <th>count_season</th>\n",
              "    </tr>\n",
              "  </thead>\n",
              "  <tbody>\n",
              "    <tr>\n",
              "      <th>0</th>\n",
              "      <td>2011-01-01 00:00:00</td>\n",
              "      <td>1</td>\n",
              "      <td>0</td>\n",
              "      <td>0</td>\n",
              "      <td>1</td>\n",
              "      <td>9.84</td>\n",
              "      <td>14.395</td>\n",
              "      <td>81</td>\n",
              "      <td>12.73654</td>\n",
              "      <td>3.0</td>\n",
              "      <td>13.0</td>\n",
              "      <td>16.0</td>\n",
              "      <td>0</td>\n",
              "      <td>1</td>\n",
              "      <td>1.0</td>\n",
              "      <td>5</td>\n",
              "      <td>2011</td>\n",
              "      <td>2011.1</td>\n",
              "      <td>12.5</td>\n",
              "    </tr>\n",
              "    <tr>\n",
              "      <th>1</th>\n",
              "      <td>2011-01-01 01:00:00</td>\n",
              "      <td>1</td>\n",
              "      <td>0</td>\n",
              "      <td>0</td>\n",
              "      <td>1</td>\n",
              "      <td>9.02</td>\n",
              "      <td>13.635</td>\n",
              "      <td>80</td>\n",
              "      <td>12.73654</td>\n",
              "      <td>8.0</td>\n",
              "      <td>32.0</td>\n",
              "      <td>40.0</td>\n",
              "      <td>1</td>\n",
              "      <td>1</td>\n",
              "      <td>1.0</td>\n",
              "      <td>5</td>\n",
              "      <td>2011</td>\n",
              "      <td>2011.1</td>\n",
              "      <td>12.5</td>\n",
              "    </tr>\n",
              "    <tr>\n",
              "      <th>2</th>\n",
              "      <td>2011-01-01 02:00:00</td>\n",
              "      <td>1</td>\n",
              "      <td>0</td>\n",
              "      <td>0</td>\n",
              "      <td>1</td>\n",
              "      <td>9.02</td>\n",
              "      <td>13.635</td>\n",
              "      <td>80</td>\n",
              "      <td>12.73654</td>\n",
              "      <td>5.0</td>\n",
              "      <td>27.0</td>\n",
              "      <td>32.0</td>\n",
              "      <td>2</td>\n",
              "      <td>1</td>\n",
              "      <td>1.0</td>\n",
              "      <td>5</td>\n",
              "      <td>2011</td>\n",
              "      <td>2011.1</td>\n",
              "      <td>12.5</td>\n",
              "    </tr>\n",
              "    <tr>\n",
              "      <th>3</th>\n",
              "      <td>2011-01-01 03:00:00</td>\n",
              "      <td>1</td>\n",
              "      <td>0</td>\n",
              "      <td>0</td>\n",
              "      <td>1</td>\n",
              "      <td>9.84</td>\n",
              "      <td>14.395</td>\n",
              "      <td>75</td>\n",
              "      <td>12.73654</td>\n",
              "      <td>3.0</td>\n",
              "      <td>10.0</td>\n",
              "      <td>13.0</td>\n",
              "      <td>3</td>\n",
              "      <td>1</td>\n",
              "      <td>1.0</td>\n",
              "      <td>5</td>\n",
              "      <td>2011</td>\n",
              "      <td>2011.1</td>\n",
              "      <td>12.5</td>\n",
              "    </tr>\n",
              "    <tr>\n",
              "      <th>4</th>\n",
              "      <td>2011-01-01 04:00:00</td>\n",
              "      <td>1</td>\n",
              "      <td>0</td>\n",
              "      <td>0</td>\n",
              "      <td>1</td>\n",
              "      <td>9.84</td>\n",
              "      <td>14.395</td>\n",
              "      <td>75</td>\n",
              "      <td>12.73654</td>\n",
              "      <td>0.0</td>\n",
              "      <td>1.0</td>\n",
              "      <td>1.0</td>\n",
              "      <td>4</td>\n",
              "      <td>1</td>\n",
              "      <td>1.0</td>\n",
              "      <td>5</td>\n",
              "      <td>2011</td>\n",
              "      <td>2011.1</td>\n",
              "      <td>12.5</td>\n",
              "    </tr>\n",
              "    <tr>\n",
              "      <th>...</th>\n",
              "      <td>...</td>\n",
              "      <td>...</td>\n",
              "      <td>...</td>\n",
              "      <td>...</td>\n",
              "      <td>...</td>\n",
              "      <td>...</td>\n",
              "      <td>...</td>\n",
              "      <td>...</td>\n",
              "      <td>...</td>\n",
              "      <td>...</td>\n",
              "      <td>...</td>\n",
              "      <td>...</td>\n",
              "      <td>...</td>\n",
              "      <td>...</td>\n",
              "      <td>...</td>\n",
              "      <td>...</td>\n",
              "      <td>...</td>\n",
              "      <td>...</td>\n",
              "      <td>...</td>\n",
              "    </tr>\n",
              "    <tr>\n",
              "      <th>17374</th>\n",
              "      <td>2012-12-31 19:00:00</td>\n",
              "      <td>1</td>\n",
              "      <td>0</td>\n",
              "      <td>1</td>\n",
              "      <td>2</td>\n",
              "      <td>10.66</td>\n",
              "      <td>12.880</td>\n",
              "      <td>60</td>\n",
              "      <td>11.00140</td>\n",
              "      <td>0.0</td>\n",
              "      <td>0.0</td>\n",
              "      <td>0.0</td>\n",
              "      <td>19</td>\n",
              "      <td>31</td>\n",
              "      <td>3.0</td>\n",
              "      <td>0</td>\n",
              "      <td>2012</td>\n",
              "      <td>2012.1</td>\n",
              "      <td>23.0</td>\n",
              "    </tr>\n",
              "    <tr>\n",
              "      <th>17375</th>\n",
              "      <td>2012-12-31 20:00:00</td>\n",
              "      <td>1</td>\n",
              "      <td>0</td>\n",
              "      <td>1</td>\n",
              "      <td>2</td>\n",
              "      <td>10.66</td>\n",
              "      <td>12.880</td>\n",
              "      <td>60</td>\n",
              "      <td>11.00140</td>\n",
              "      <td>0.0</td>\n",
              "      <td>0.0</td>\n",
              "      <td>0.0</td>\n",
              "      <td>20</td>\n",
              "      <td>31</td>\n",
              "      <td>2.0</td>\n",
              "      <td>0</td>\n",
              "      <td>2012</td>\n",
              "      <td>2012.1</td>\n",
              "      <td>23.0</td>\n",
              "    </tr>\n",
              "    <tr>\n",
              "      <th>17376</th>\n",
              "      <td>2012-12-31 21:00:00</td>\n",
              "      <td>1</td>\n",
              "      <td>0</td>\n",
              "      <td>1</td>\n",
              "      <td>1</td>\n",
              "      <td>10.66</td>\n",
              "      <td>12.880</td>\n",
              "      <td>60</td>\n",
              "      <td>11.00140</td>\n",
              "      <td>0.0</td>\n",
              "      <td>0.0</td>\n",
              "      <td>0.0</td>\n",
              "      <td>21</td>\n",
              "      <td>31</td>\n",
              "      <td>2.0</td>\n",
              "      <td>0</td>\n",
              "      <td>2012</td>\n",
              "      <td>2012.1</td>\n",
              "      <td>23.0</td>\n",
              "    </tr>\n",
              "    <tr>\n",
              "      <th>17377</th>\n",
              "      <td>2012-12-31 22:00:00</td>\n",
              "      <td>1</td>\n",
              "      <td>0</td>\n",
              "      <td>1</td>\n",
              "      <td>1</td>\n",
              "      <td>10.66</td>\n",
              "      <td>13.635</td>\n",
              "      <td>56</td>\n",
              "      <td>8.99810</td>\n",
              "      <td>0.0</td>\n",
              "      <td>0.0</td>\n",
              "      <td>0.0</td>\n",
              "      <td>22</td>\n",
              "      <td>31</td>\n",
              "      <td>2.0</td>\n",
              "      <td>0</td>\n",
              "      <td>2012</td>\n",
              "      <td>2012.1</td>\n",
              "      <td>23.0</td>\n",
              "    </tr>\n",
              "    <tr>\n",
              "      <th>17378</th>\n",
              "      <td>2012-12-31 23:00:00</td>\n",
              "      <td>1</td>\n",
              "      <td>0</td>\n",
              "      <td>1</td>\n",
              "      <td>1</td>\n",
              "      <td>10.66</td>\n",
              "      <td>13.635</td>\n",
              "      <td>65</td>\n",
              "      <td>8.99810</td>\n",
              "      <td>0.0</td>\n",
              "      <td>0.0</td>\n",
              "      <td>0.0</td>\n",
              "      <td>23</td>\n",
              "      <td>31</td>\n",
              "      <td>1.0</td>\n",
              "      <td>0</td>\n",
              "      <td>2012</td>\n",
              "      <td>2012.1</td>\n",
              "      <td>23.0</td>\n",
              "    </tr>\n",
              "  </tbody>\n",
              "</table>\n",
              "<p>17379 rows × 19 columns</p>\n",
              "</div>"
            ],
            "text/plain": [
              "                 datetime season holiday  ...  year year_season  count_season\n",
              "0     2011-01-01 00:00:00      1       0  ...  2011      2011.1          12.5\n",
              "1     2011-01-01 01:00:00      1       0  ...  2011      2011.1          12.5\n",
              "2     2011-01-01 02:00:00      1       0  ...  2011      2011.1          12.5\n",
              "3     2011-01-01 03:00:00      1       0  ...  2011      2011.1          12.5\n",
              "4     2011-01-01 04:00:00      1       0  ...  2011      2011.1          12.5\n",
              "...                   ...    ...     ...  ...   ...         ...           ...\n",
              "17374 2012-12-31 19:00:00      1       0  ...  2012      2012.1          23.0\n",
              "17375 2012-12-31 20:00:00      1       0  ...  2012      2012.1          23.0\n",
              "17376 2012-12-31 21:00:00      1       0  ...  2012      2012.1          23.0\n",
              "17377 2012-12-31 22:00:00      1       0  ...  2012      2012.1          23.0\n",
              "17378 2012-12-31 23:00:00      1       0  ...  2012      2012.1          23.0\n",
              "\n",
              "[17379 rows x 19 columns]"
            ]
          },
          "metadata": {
            "tags": []
          },
          "execution_count": 41
        }
      ]
    },
    {
      "cell_type": "markdown",
      "metadata": {
        "id": "WQBVoNv1zqfw",
        "colab_type": "text"
      },
      "source": [
        "## Change datatype."
      ]
    },
    {
      "cell_type": "code",
      "metadata": {
        "id": "Gdiy7Hs0zo-a",
        "colab_type": "code",
        "colab": {}
      },
      "source": [
        "# Convert to 'category'.\n",
        "list_var = ['hour_ctg','day','year','year_season','count_season']\n",
        "for var in list_var:\n",
        "  dataset[var] = dataset[var].astype('category')"
      ],
      "execution_count": null,
      "outputs": []
    },
    {
      "cell_type": "code",
      "metadata": {
        "id": "ntNc7nELzAuB",
        "colab_type": "code",
        "colab": {}
      },
      "source": [
        "# divide again dataset into train and test\n",
        "train = dataset[pd.to_numeric(dataset['date']) < 20]\n",
        "test = dataset[pd.to_numeric(dataset['date'])>=20]"
      ],
      "execution_count": 53,
      "outputs": []
    },
    {
      "cell_type": "markdown",
      "metadata": {
        "id": "3Cv5KzFI7cLg",
        "colab_type": "text"
      },
      "source": [
        "# **Modeling**"
      ]
    },
    {
      "cell_type": "code",
      "metadata": {
        "id": "FjntuaaQzNEb",
        "colab_type": "code",
        "colab": {
          "base_uri": "https://localhost:8080/",
          "height": 758
        },
        "outputId": "110ff546-15bd-4632-e5f4-c4fd0840658a"
      },
      "source": [
        "train"
      ],
      "execution_count": 54,
      "outputs": [
        {
          "output_type": "execute_result",
          "data": {
            "text/html": [
              "<div>\n",
              "<style scoped>\n",
              "    .dataframe tbody tr th:only-of-type {\n",
              "        vertical-align: middle;\n",
              "    }\n",
              "\n",
              "    .dataframe tbody tr th {\n",
              "        vertical-align: top;\n",
              "    }\n",
              "\n",
              "    .dataframe thead th {\n",
              "        text-align: right;\n",
              "    }\n",
              "</style>\n",
              "<table border=\"1\" class=\"dataframe\">\n",
              "  <thead>\n",
              "    <tr style=\"text-align: right;\">\n",
              "      <th></th>\n",
              "      <th>datetime</th>\n",
              "      <th>season</th>\n",
              "      <th>holiday</th>\n",
              "      <th>workingday</th>\n",
              "      <th>weather</th>\n",
              "      <th>temp</th>\n",
              "      <th>atemp</th>\n",
              "      <th>humidity</th>\n",
              "      <th>windspeed</th>\n",
              "      <th>casual</th>\n",
              "      <th>registered</th>\n",
              "      <th>count</th>\n",
              "      <th>hour</th>\n",
              "      <th>date</th>\n",
              "      <th>hour_ctg</th>\n",
              "      <th>day</th>\n",
              "      <th>year</th>\n",
              "      <th>year_season</th>\n",
              "      <th>log_count</th>\n",
              "    </tr>\n",
              "  </thead>\n",
              "  <tbody>\n",
              "    <tr>\n",
              "      <th>0</th>\n",
              "      <td>2011-01-01 00:00:00</td>\n",
              "      <td>1</td>\n",
              "      <td>0</td>\n",
              "      <td>0</td>\n",
              "      <td>1</td>\n",
              "      <td>9.84</td>\n",
              "      <td>14.395</td>\n",
              "      <td>81</td>\n",
              "      <td>12.73654</td>\n",
              "      <td>3.0</td>\n",
              "      <td>13.0</td>\n",
              "      <td>16.0</td>\n",
              "      <td>0</td>\n",
              "      <td>1</td>\n",
              "      <td>1.0</td>\n",
              "      <td>5</td>\n",
              "      <td>2011</td>\n",
              "      <td>2011.1</td>\n",
              "      <td>2.772589</td>\n",
              "    </tr>\n",
              "    <tr>\n",
              "      <th>1</th>\n",
              "      <td>2011-01-01 01:00:00</td>\n",
              "      <td>1</td>\n",
              "      <td>0</td>\n",
              "      <td>0</td>\n",
              "      <td>1</td>\n",
              "      <td>9.02</td>\n",
              "      <td>13.635</td>\n",
              "      <td>80</td>\n",
              "      <td>12.73654</td>\n",
              "      <td>8.0</td>\n",
              "      <td>32.0</td>\n",
              "      <td>40.0</td>\n",
              "      <td>1</td>\n",
              "      <td>1</td>\n",
              "      <td>1.0</td>\n",
              "      <td>5</td>\n",
              "      <td>2011</td>\n",
              "      <td>2011.1</td>\n",
              "      <td>3.688879</td>\n",
              "    </tr>\n",
              "    <tr>\n",
              "      <th>2</th>\n",
              "      <td>2011-01-01 02:00:00</td>\n",
              "      <td>1</td>\n",
              "      <td>0</td>\n",
              "      <td>0</td>\n",
              "      <td>1</td>\n",
              "      <td>9.02</td>\n",
              "      <td>13.635</td>\n",
              "      <td>80</td>\n",
              "      <td>12.73654</td>\n",
              "      <td>5.0</td>\n",
              "      <td>27.0</td>\n",
              "      <td>32.0</td>\n",
              "      <td>2</td>\n",
              "      <td>1</td>\n",
              "      <td>1.0</td>\n",
              "      <td>5</td>\n",
              "      <td>2011</td>\n",
              "      <td>2011.1</td>\n",
              "      <td>3.465736</td>\n",
              "    </tr>\n",
              "    <tr>\n",
              "      <th>3</th>\n",
              "      <td>2011-01-01 03:00:00</td>\n",
              "      <td>1</td>\n",
              "      <td>0</td>\n",
              "      <td>0</td>\n",
              "      <td>1</td>\n",
              "      <td>9.84</td>\n",
              "      <td>14.395</td>\n",
              "      <td>75</td>\n",
              "      <td>12.73654</td>\n",
              "      <td>3.0</td>\n",
              "      <td>10.0</td>\n",
              "      <td>13.0</td>\n",
              "      <td>3</td>\n",
              "      <td>1</td>\n",
              "      <td>1.0</td>\n",
              "      <td>5</td>\n",
              "      <td>2011</td>\n",
              "      <td>2011.1</td>\n",
              "      <td>2.564949</td>\n",
              "    </tr>\n",
              "    <tr>\n",
              "      <th>4</th>\n",
              "      <td>2011-01-01 04:00:00</td>\n",
              "      <td>1</td>\n",
              "      <td>0</td>\n",
              "      <td>0</td>\n",
              "      <td>1</td>\n",
              "      <td>9.84</td>\n",
              "      <td>14.395</td>\n",
              "      <td>75</td>\n",
              "      <td>12.73654</td>\n",
              "      <td>0.0</td>\n",
              "      <td>1.0</td>\n",
              "      <td>1.0</td>\n",
              "      <td>4</td>\n",
              "      <td>1</td>\n",
              "      <td>1.0</td>\n",
              "      <td>5</td>\n",
              "      <td>2011</td>\n",
              "      <td>2011.1</td>\n",
              "      <td>0.000000</td>\n",
              "    </tr>\n",
              "    <tr>\n",
              "      <th>...</th>\n",
              "      <td>...</td>\n",
              "      <td>...</td>\n",
              "      <td>...</td>\n",
              "      <td>...</td>\n",
              "      <td>...</td>\n",
              "      <td>...</td>\n",
              "      <td>...</td>\n",
              "      <td>...</td>\n",
              "      <td>...</td>\n",
              "      <td>...</td>\n",
              "      <td>...</td>\n",
              "      <td>...</td>\n",
              "      <td>...</td>\n",
              "      <td>...</td>\n",
              "      <td>...</td>\n",
              "      <td>...</td>\n",
              "      <td>...</td>\n",
              "      <td>...</td>\n",
              "      <td>...</td>\n",
              "    </tr>\n",
              "    <tr>\n",
              "      <th>10881</th>\n",
              "      <td>2012-12-19 19:00:00</td>\n",
              "      <td>4</td>\n",
              "      <td>0</td>\n",
              "      <td>1</td>\n",
              "      <td>1</td>\n",
              "      <td>15.58</td>\n",
              "      <td>19.695</td>\n",
              "      <td>50</td>\n",
              "      <td>26.00270</td>\n",
              "      <td>7.0</td>\n",
              "      <td>329.0</td>\n",
              "      <td>336.0</td>\n",
              "      <td>19</td>\n",
              "      <td>19</td>\n",
              "      <td>3.0</td>\n",
              "      <td>2</td>\n",
              "      <td>2012</td>\n",
              "      <td>2012.4</td>\n",
              "      <td>5.817111</td>\n",
              "    </tr>\n",
              "    <tr>\n",
              "      <th>10882</th>\n",
              "      <td>2012-12-19 20:00:00</td>\n",
              "      <td>4</td>\n",
              "      <td>0</td>\n",
              "      <td>1</td>\n",
              "      <td>1</td>\n",
              "      <td>14.76</td>\n",
              "      <td>17.425</td>\n",
              "      <td>57</td>\n",
              "      <td>15.00130</td>\n",
              "      <td>10.0</td>\n",
              "      <td>231.0</td>\n",
              "      <td>241.0</td>\n",
              "      <td>20</td>\n",
              "      <td>19</td>\n",
              "      <td>2.0</td>\n",
              "      <td>2</td>\n",
              "      <td>2012</td>\n",
              "      <td>2012.4</td>\n",
              "      <td>5.484797</td>\n",
              "    </tr>\n",
              "    <tr>\n",
              "      <th>10883</th>\n",
              "      <td>2012-12-19 21:00:00</td>\n",
              "      <td>4</td>\n",
              "      <td>0</td>\n",
              "      <td>1</td>\n",
              "      <td>1</td>\n",
              "      <td>13.94</td>\n",
              "      <td>15.910</td>\n",
              "      <td>61</td>\n",
              "      <td>15.00130</td>\n",
              "      <td>4.0</td>\n",
              "      <td>164.0</td>\n",
              "      <td>168.0</td>\n",
              "      <td>21</td>\n",
              "      <td>19</td>\n",
              "      <td>2.0</td>\n",
              "      <td>2</td>\n",
              "      <td>2012</td>\n",
              "      <td>2012.4</td>\n",
              "      <td>5.123964</td>\n",
              "    </tr>\n",
              "    <tr>\n",
              "      <th>10884</th>\n",
              "      <td>2012-12-19 22:00:00</td>\n",
              "      <td>4</td>\n",
              "      <td>0</td>\n",
              "      <td>1</td>\n",
              "      <td>1</td>\n",
              "      <td>13.94</td>\n",
              "      <td>17.425</td>\n",
              "      <td>61</td>\n",
              "      <td>6.00320</td>\n",
              "      <td>12.0</td>\n",
              "      <td>117.0</td>\n",
              "      <td>129.0</td>\n",
              "      <td>22</td>\n",
              "      <td>19</td>\n",
              "      <td>2.0</td>\n",
              "      <td>2</td>\n",
              "      <td>2012</td>\n",
              "      <td>2012.4</td>\n",
              "      <td>4.859812</td>\n",
              "    </tr>\n",
              "    <tr>\n",
              "      <th>10885</th>\n",
              "      <td>2012-12-19 23:00:00</td>\n",
              "      <td>4</td>\n",
              "      <td>0</td>\n",
              "      <td>1</td>\n",
              "      <td>1</td>\n",
              "      <td>13.12</td>\n",
              "      <td>16.665</td>\n",
              "      <td>66</td>\n",
              "      <td>8.99810</td>\n",
              "      <td>4.0</td>\n",
              "      <td>84.0</td>\n",
              "      <td>88.0</td>\n",
              "      <td>23</td>\n",
              "      <td>19</td>\n",
              "      <td>1.0</td>\n",
              "      <td>2</td>\n",
              "      <td>2012</td>\n",
              "      <td>2012.4</td>\n",
              "      <td>4.477337</td>\n",
              "    </tr>\n",
              "  </tbody>\n",
              "</table>\n",
              "<p>10886 rows × 19 columns</p>\n",
              "</div>"
            ],
            "text/plain": [
              "                 datetime season holiday  ...  year year_season  log_count\n",
              "0     2011-01-01 00:00:00      1       0  ...  2011      2011.1   2.772589\n",
              "1     2011-01-01 01:00:00      1       0  ...  2011      2011.1   3.688879\n",
              "2     2011-01-01 02:00:00      1       0  ...  2011      2011.1   3.465736\n",
              "3     2011-01-01 03:00:00      1       0  ...  2011      2011.1   2.564949\n",
              "4     2011-01-01 04:00:00      1       0  ...  2011      2011.1   0.000000\n",
              "...                   ...    ...     ...  ...   ...         ...        ...\n",
              "10881 2012-12-19 19:00:00      4       0  ...  2012      2012.4   5.817111\n",
              "10882 2012-12-19 20:00:00      4       0  ...  2012      2012.4   5.484797\n",
              "10883 2012-12-19 21:00:00      4       0  ...  2012      2012.4   5.123964\n",
              "10884 2012-12-19 22:00:00      4       0  ...  2012      2012.4   4.859812\n",
              "10885 2012-12-19 23:00:00      4       0  ...  2012      2012.4   4.477337\n",
              "\n",
              "[10886 rows x 19 columns]"
            ]
          },
          "metadata": {
            "tags": []
          },
          "execution_count": 54
        }
      ]
    },
    {
      "cell_type": "code",
      "metadata": {
        "id": "5RBbMabXvdV1",
        "colab_type": "code",
        "colab": {
          "base_uri": "https://localhost:8080/",
          "height": 758
        },
        "outputId": "f95b1528-6058-4c32-c707-cbcd35e964ae"
      },
      "source": [
        "test.reset_index(drop=True)"
      ],
      "execution_count": 55,
      "outputs": [
        {
          "output_type": "execute_result",
          "data": {
            "text/html": [
              "<div>\n",
              "<style scoped>\n",
              "    .dataframe tbody tr th:only-of-type {\n",
              "        vertical-align: middle;\n",
              "    }\n",
              "\n",
              "    .dataframe tbody tr th {\n",
              "        vertical-align: top;\n",
              "    }\n",
              "\n",
              "    .dataframe thead th {\n",
              "        text-align: right;\n",
              "    }\n",
              "</style>\n",
              "<table border=\"1\" class=\"dataframe\">\n",
              "  <thead>\n",
              "    <tr style=\"text-align: right;\">\n",
              "      <th></th>\n",
              "      <th>datetime</th>\n",
              "      <th>season</th>\n",
              "      <th>holiday</th>\n",
              "      <th>workingday</th>\n",
              "      <th>weather</th>\n",
              "      <th>temp</th>\n",
              "      <th>atemp</th>\n",
              "      <th>humidity</th>\n",
              "      <th>windspeed</th>\n",
              "      <th>casual</th>\n",
              "      <th>registered</th>\n",
              "      <th>count</th>\n",
              "      <th>hour</th>\n",
              "      <th>date</th>\n",
              "      <th>hour_ctg</th>\n",
              "      <th>day</th>\n",
              "      <th>year</th>\n",
              "      <th>year_season</th>\n",
              "      <th>log_count</th>\n",
              "    </tr>\n",
              "  </thead>\n",
              "  <tbody>\n",
              "    <tr>\n",
              "      <th>0</th>\n",
              "      <td>2011-01-20 00:00:00</td>\n",
              "      <td>1</td>\n",
              "      <td>0</td>\n",
              "      <td>1</td>\n",
              "      <td>1</td>\n",
              "      <td>10.66</td>\n",
              "      <td>11.365</td>\n",
              "      <td>56</td>\n",
              "      <td>26.00270</td>\n",
              "      <td>0.0</td>\n",
              "      <td>0.0</td>\n",
              "      <td>0.0</td>\n",
              "      <td>0</td>\n",
              "      <td>20</td>\n",
              "      <td>1.0</td>\n",
              "      <td>3</td>\n",
              "      <td>2011</td>\n",
              "      <td>2011.1</td>\n",
              "      <td>-inf</td>\n",
              "    </tr>\n",
              "    <tr>\n",
              "      <th>1</th>\n",
              "      <td>2011-01-20 01:00:00</td>\n",
              "      <td>1</td>\n",
              "      <td>0</td>\n",
              "      <td>1</td>\n",
              "      <td>1</td>\n",
              "      <td>10.66</td>\n",
              "      <td>13.635</td>\n",
              "      <td>56</td>\n",
              "      <td>12.73654</td>\n",
              "      <td>0.0</td>\n",
              "      <td>0.0</td>\n",
              "      <td>0.0</td>\n",
              "      <td>1</td>\n",
              "      <td>20</td>\n",
              "      <td>1.0</td>\n",
              "      <td>3</td>\n",
              "      <td>2011</td>\n",
              "      <td>2011.1</td>\n",
              "      <td>-inf</td>\n",
              "    </tr>\n",
              "    <tr>\n",
              "      <th>2</th>\n",
              "      <td>2011-01-20 02:00:00</td>\n",
              "      <td>1</td>\n",
              "      <td>0</td>\n",
              "      <td>1</td>\n",
              "      <td>1</td>\n",
              "      <td>10.66</td>\n",
              "      <td>13.635</td>\n",
              "      <td>56</td>\n",
              "      <td>12.73654</td>\n",
              "      <td>0.0</td>\n",
              "      <td>0.0</td>\n",
              "      <td>0.0</td>\n",
              "      <td>2</td>\n",
              "      <td>20</td>\n",
              "      <td>1.0</td>\n",
              "      <td>3</td>\n",
              "      <td>2011</td>\n",
              "      <td>2011.1</td>\n",
              "      <td>-inf</td>\n",
              "    </tr>\n",
              "    <tr>\n",
              "      <th>3</th>\n",
              "      <td>2011-01-20 03:00:00</td>\n",
              "      <td>1</td>\n",
              "      <td>0</td>\n",
              "      <td>1</td>\n",
              "      <td>1</td>\n",
              "      <td>10.66</td>\n",
              "      <td>12.880</td>\n",
              "      <td>56</td>\n",
              "      <td>11.00140</td>\n",
              "      <td>0.0</td>\n",
              "      <td>0.0</td>\n",
              "      <td>0.0</td>\n",
              "      <td>3</td>\n",
              "      <td>20</td>\n",
              "      <td>1.0</td>\n",
              "      <td>3</td>\n",
              "      <td>2011</td>\n",
              "      <td>2011.1</td>\n",
              "      <td>-inf</td>\n",
              "    </tr>\n",
              "    <tr>\n",
              "      <th>4</th>\n",
              "      <td>2011-01-20 04:00:00</td>\n",
              "      <td>1</td>\n",
              "      <td>0</td>\n",
              "      <td>1</td>\n",
              "      <td>1</td>\n",
              "      <td>10.66</td>\n",
              "      <td>12.880</td>\n",
              "      <td>56</td>\n",
              "      <td>11.00140</td>\n",
              "      <td>0.0</td>\n",
              "      <td>0.0</td>\n",
              "      <td>0.0</td>\n",
              "      <td>4</td>\n",
              "      <td>20</td>\n",
              "      <td>1.0</td>\n",
              "      <td>3</td>\n",
              "      <td>2011</td>\n",
              "      <td>2011.1</td>\n",
              "      <td>-inf</td>\n",
              "    </tr>\n",
              "    <tr>\n",
              "      <th>...</th>\n",
              "      <td>...</td>\n",
              "      <td>...</td>\n",
              "      <td>...</td>\n",
              "      <td>...</td>\n",
              "      <td>...</td>\n",
              "      <td>...</td>\n",
              "      <td>...</td>\n",
              "      <td>...</td>\n",
              "      <td>...</td>\n",
              "      <td>...</td>\n",
              "      <td>...</td>\n",
              "      <td>...</td>\n",
              "      <td>...</td>\n",
              "      <td>...</td>\n",
              "      <td>...</td>\n",
              "      <td>...</td>\n",
              "      <td>...</td>\n",
              "      <td>...</td>\n",
              "      <td>...</td>\n",
              "    </tr>\n",
              "    <tr>\n",
              "      <th>6488</th>\n",
              "      <td>2012-12-31 19:00:00</td>\n",
              "      <td>1</td>\n",
              "      <td>0</td>\n",
              "      <td>1</td>\n",
              "      <td>2</td>\n",
              "      <td>10.66</td>\n",
              "      <td>12.880</td>\n",
              "      <td>60</td>\n",
              "      <td>11.00140</td>\n",
              "      <td>0.0</td>\n",
              "      <td>0.0</td>\n",
              "      <td>0.0</td>\n",
              "      <td>19</td>\n",
              "      <td>31</td>\n",
              "      <td>3.0</td>\n",
              "      <td>0</td>\n",
              "      <td>2012</td>\n",
              "      <td>2012.1</td>\n",
              "      <td>-inf</td>\n",
              "    </tr>\n",
              "    <tr>\n",
              "      <th>6489</th>\n",
              "      <td>2012-12-31 20:00:00</td>\n",
              "      <td>1</td>\n",
              "      <td>0</td>\n",
              "      <td>1</td>\n",
              "      <td>2</td>\n",
              "      <td>10.66</td>\n",
              "      <td>12.880</td>\n",
              "      <td>60</td>\n",
              "      <td>11.00140</td>\n",
              "      <td>0.0</td>\n",
              "      <td>0.0</td>\n",
              "      <td>0.0</td>\n",
              "      <td>20</td>\n",
              "      <td>31</td>\n",
              "      <td>2.0</td>\n",
              "      <td>0</td>\n",
              "      <td>2012</td>\n",
              "      <td>2012.1</td>\n",
              "      <td>-inf</td>\n",
              "    </tr>\n",
              "    <tr>\n",
              "      <th>6490</th>\n",
              "      <td>2012-12-31 21:00:00</td>\n",
              "      <td>1</td>\n",
              "      <td>0</td>\n",
              "      <td>1</td>\n",
              "      <td>1</td>\n",
              "      <td>10.66</td>\n",
              "      <td>12.880</td>\n",
              "      <td>60</td>\n",
              "      <td>11.00140</td>\n",
              "      <td>0.0</td>\n",
              "      <td>0.0</td>\n",
              "      <td>0.0</td>\n",
              "      <td>21</td>\n",
              "      <td>31</td>\n",
              "      <td>2.0</td>\n",
              "      <td>0</td>\n",
              "      <td>2012</td>\n",
              "      <td>2012.1</td>\n",
              "      <td>-inf</td>\n",
              "    </tr>\n",
              "    <tr>\n",
              "      <th>6491</th>\n",
              "      <td>2012-12-31 22:00:00</td>\n",
              "      <td>1</td>\n",
              "      <td>0</td>\n",
              "      <td>1</td>\n",
              "      <td>1</td>\n",
              "      <td>10.66</td>\n",
              "      <td>13.635</td>\n",
              "      <td>56</td>\n",
              "      <td>8.99810</td>\n",
              "      <td>0.0</td>\n",
              "      <td>0.0</td>\n",
              "      <td>0.0</td>\n",
              "      <td>22</td>\n",
              "      <td>31</td>\n",
              "      <td>2.0</td>\n",
              "      <td>0</td>\n",
              "      <td>2012</td>\n",
              "      <td>2012.1</td>\n",
              "      <td>-inf</td>\n",
              "    </tr>\n",
              "    <tr>\n",
              "      <th>6492</th>\n",
              "      <td>2012-12-31 23:00:00</td>\n",
              "      <td>1</td>\n",
              "      <td>0</td>\n",
              "      <td>1</td>\n",
              "      <td>1</td>\n",
              "      <td>10.66</td>\n",
              "      <td>13.635</td>\n",
              "      <td>65</td>\n",
              "      <td>8.99810</td>\n",
              "      <td>0.0</td>\n",
              "      <td>0.0</td>\n",
              "      <td>0.0</td>\n",
              "      <td>23</td>\n",
              "      <td>31</td>\n",
              "      <td>1.0</td>\n",
              "      <td>0</td>\n",
              "      <td>2012</td>\n",
              "      <td>2012.1</td>\n",
              "      <td>-inf</td>\n",
              "    </tr>\n",
              "  </tbody>\n",
              "</table>\n",
              "<p>6493 rows × 19 columns</p>\n",
              "</div>"
            ],
            "text/plain": [
              "                datetime season holiday  ...  year year_season  log_count\n",
              "0    2011-01-20 00:00:00      1       0  ...  2011      2011.1       -inf\n",
              "1    2011-01-20 01:00:00      1       0  ...  2011      2011.1       -inf\n",
              "2    2011-01-20 02:00:00      1       0  ...  2011      2011.1       -inf\n",
              "3    2011-01-20 03:00:00      1       0  ...  2011      2011.1       -inf\n",
              "4    2011-01-20 04:00:00      1       0  ...  2011      2011.1       -inf\n",
              "...                  ...    ...     ...  ...   ...         ...        ...\n",
              "6488 2012-12-31 19:00:00      1       0  ...  2012      2012.1       -inf\n",
              "6489 2012-12-31 20:00:00      1       0  ...  2012      2012.1       -inf\n",
              "6490 2012-12-31 21:00:00      1       0  ...  2012      2012.1       -inf\n",
              "6491 2012-12-31 22:00:00      1       0  ...  2012      2012.1       -inf\n",
              "6492 2012-12-31 23:00:00      1       0  ...  2012      2012.1       -inf\n",
              "\n",
              "[6493 rows x 19 columns]"
            ]
          },
          "metadata": {
            "tags": []
          },
          "execution_count": 55
        }
      ]
    },
    {
      "cell_type": "code",
      "metadata": {
        "id": "7Ocwkj3drbZx",
        "colab_type": "code",
        "colab": {
          "base_uri": "https://localhost:8080/",
          "height": 353
        },
        "outputId": "9d508a36-ec34-413e-d8ea-0c2edd7bb8de"
      },
      "source": [
        "train.dtypes"
      ],
      "execution_count": 56,
      "outputs": [
        {
          "output_type": "execute_result",
          "data": {
            "text/plain": [
              "datetime       datetime64[ns]\n",
              "season               category\n",
              "holiday              category\n",
              "workingday           category\n",
              "weather              category\n",
              "temp                  float64\n",
              "atemp                 float64\n",
              "humidity                int64\n",
              "windspeed             float64\n",
              "casual                float64\n",
              "registered            float64\n",
              "count                 float64\n",
              "hour                    int64\n",
              "date                    int64\n",
              "hour_ctg              float64\n",
              "day                     int64\n",
              "year                    int64\n",
              "year_season           float64\n",
              "log_count             float64\n",
              "dtype: object"
            ]
          },
          "metadata": {
            "tags": []
          },
          "execution_count": 56
        }
      ]
    }
  ]
}